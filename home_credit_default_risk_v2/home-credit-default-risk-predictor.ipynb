{
 "cells": [
  {
   "cell_type": "code",
   "execution_count": 1,
   "id": "0b70fa44",
   "metadata": {
    "execution": {
     "iopub.execute_input": "2024-04-17T06:43:01.115450Z",
     "iopub.status.busy": "2024-04-17T06:43:01.115000Z",
     "iopub.status.idle": "2024-04-17T06:43:10.043062Z",
     "shell.execute_reply": "2024-04-17T06:43:10.041820Z"
    },
    "papermill": {
     "duration": 8.949676,
     "end_time": "2024-04-17T06:43:10.046192",
     "exception": false,
     "start_time": "2024-04-17T06:43:01.096516",
     "status": "completed"
    },
    "tags": []
   },
   "outputs": [],
   "source": [
    "import pandas as pd\n",
    "import numpy as np\n",
    "\n",
    "# Veriyi yükle\n",
    "df_train = pd.read_csv('/kaggle/input/home-credit-default-risk/application_train.csv')"
   ]
  },
  {
   "cell_type": "code",
   "execution_count": 2,
   "id": "a7ccae73",
   "metadata": {
    "execution": {
     "iopub.execute_input": "2024-04-17T06:43:10.081821Z",
     "iopub.status.busy": "2024-04-17T06:43:10.080235Z",
     "iopub.status.idle": "2024-04-17T06:43:10.130127Z",
     "shell.execute_reply": "2024-04-17T06:43:10.129136Z"
    },
    "papermill": {
     "duration": 0.071926,
     "end_time": "2024-04-17T06:43:10.134288",
     "exception": false,
     "start_time": "2024-04-17T06:43:10.062362",
     "status": "completed"
    },
    "tags": []
   },
   "outputs": [
    {
     "data": {
      "text/html": [
       "<div>\n",
       "<style scoped>\n",
       "    .dataframe tbody tr th:only-of-type {\n",
       "        vertical-align: middle;\n",
       "    }\n",
       "\n",
       "    .dataframe tbody tr th {\n",
       "        vertical-align: top;\n",
       "    }\n",
       "\n",
       "    .dataframe thead th {\n",
       "        text-align: right;\n",
       "    }\n",
       "</style>\n",
       "<table border=\"1\" class=\"dataframe\">\n",
       "  <thead>\n",
       "    <tr style=\"text-align: right;\">\n",
       "      <th></th>\n",
       "      <th>SK_ID_CURR</th>\n",
       "      <th>TARGET</th>\n",
       "      <th>NAME_CONTRACT_TYPE</th>\n",
       "      <th>CODE_GENDER</th>\n",
       "      <th>FLAG_OWN_CAR</th>\n",
       "      <th>FLAG_OWN_REALTY</th>\n",
       "      <th>CNT_CHILDREN</th>\n",
       "      <th>AMT_INCOME_TOTAL</th>\n",
       "      <th>AMT_CREDIT</th>\n",
       "      <th>AMT_ANNUITY</th>\n",
       "      <th>...</th>\n",
       "      <th>FLAG_DOCUMENT_18</th>\n",
       "      <th>FLAG_DOCUMENT_19</th>\n",
       "      <th>FLAG_DOCUMENT_20</th>\n",
       "      <th>FLAG_DOCUMENT_21</th>\n",
       "      <th>AMT_REQ_CREDIT_BUREAU_HOUR</th>\n",
       "      <th>AMT_REQ_CREDIT_BUREAU_DAY</th>\n",
       "      <th>AMT_REQ_CREDIT_BUREAU_WEEK</th>\n",
       "      <th>AMT_REQ_CREDIT_BUREAU_MON</th>\n",
       "      <th>AMT_REQ_CREDIT_BUREAU_QRT</th>\n",
       "      <th>AMT_REQ_CREDIT_BUREAU_YEAR</th>\n",
       "    </tr>\n",
       "  </thead>\n",
       "  <tbody>\n",
       "    <tr>\n",
       "      <th>0</th>\n",
       "      <td>100002</td>\n",
       "      <td>1</td>\n",
       "      <td>Cash loans</td>\n",
       "      <td>M</td>\n",
       "      <td>N</td>\n",
       "      <td>Y</td>\n",
       "      <td>0</td>\n",
       "      <td>202500.0</td>\n",
       "      <td>406597.5</td>\n",
       "      <td>24700.5</td>\n",
       "      <td>...</td>\n",
       "      <td>0</td>\n",
       "      <td>0</td>\n",
       "      <td>0</td>\n",
       "      <td>0</td>\n",
       "      <td>0.0</td>\n",
       "      <td>0.0</td>\n",
       "      <td>0.0</td>\n",
       "      <td>0.0</td>\n",
       "      <td>0.0</td>\n",
       "      <td>1.0</td>\n",
       "    </tr>\n",
       "    <tr>\n",
       "      <th>1</th>\n",
       "      <td>100003</td>\n",
       "      <td>0</td>\n",
       "      <td>Cash loans</td>\n",
       "      <td>F</td>\n",
       "      <td>N</td>\n",
       "      <td>N</td>\n",
       "      <td>0</td>\n",
       "      <td>270000.0</td>\n",
       "      <td>1293502.5</td>\n",
       "      <td>35698.5</td>\n",
       "      <td>...</td>\n",
       "      <td>0</td>\n",
       "      <td>0</td>\n",
       "      <td>0</td>\n",
       "      <td>0</td>\n",
       "      <td>0.0</td>\n",
       "      <td>0.0</td>\n",
       "      <td>0.0</td>\n",
       "      <td>0.0</td>\n",
       "      <td>0.0</td>\n",
       "      <td>0.0</td>\n",
       "    </tr>\n",
       "    <tr>\n",
       "      <th>2</th>\n",
       "      <td>100004</td>\n",
       "      <td>0</td>\n",
       "      <td>Revolving loans</td>\n",
       "      <td>M</td>\n",
       "      <td>Y</td>\n",
       "      <td>Y</td>\n",
       "      <td>0</td>\n",
       "      <td>67500.0</td>\n",
       "      <td>135000.0</td>\n",
       "      <td>6750.0</td>\n",
       "      <td>...</td>\n",
       "      <td>0</td>\n",
       "      <td>0</td>\n",
       "      <td>0</td>\n",
       "      <td>0</td>\n",
       "      <td>0.0</td>\n",
       "      <td>0.0</td>\n",
       "      <td>0.0</td>\n",
       "      <td>0.0</td>\n",
       "      <td>0.0</td>\n",
       "      <td>0.0</td>\n",
       "    </tr>\n",
       "    <tr>\n",
       "      <th>3</th>\n",
       "      <td>100006</td>\n",
       "      <td>0</td>\n",
       "      <td>Cash loans</td>\n",
       "      <td>F</td>\n",
       "      <td>N</td>\n",
       "      <td>Y</td>\n",
       "      <td>0</td>\n",
       "      <td>135000.0</td>\n",
       "      <td>312682.5</td>\n",
       "      <td>29686.5</td>\n",
       "      <td>...</td>\n",
       "      <td>0</td>\n",
       "      <td>0</td>\n",
       "      <td>0</td>\n",
       "      <td>0</td>\n",
       "      <td>NaN</td>\n",
       "      <td>NaN</td>\n",
       "      <td>NaN</td>\n",
       "      <td>NaN</td>\n",
       "      <td>NaN</td>\n",
       "      <td>NaN</td>\n",
       "    </tr>\n",
       "    <tr>\n",
       "      <th>4</th>\n",
       "      <td>100007</td>\n",
       "      <td>0</td>\n",
       "      <td>Cash loans</td>\n",
       "      <td>M</td>\n",
       "      <td>N</td>\n",
       "      <td>Y</td>\n",
       "      <td>0</td>\n",
       "      <td>121500.0</td>\n",
       "      <td>513000.0</td>\n",
       "      <td>21865.5</td>\n",
       "      <td>...</td>\n",
       "      <td>0</td>\n",
       "      <td>0</td>\n",
       "      <td>0</td>\n",
       "      <td>0</td>\n",
       "      <td>0.0</td>\n",
       "      <td>0.0</td>\n",
       "      <td>0.0</td>\n",
       "      <td>0.0</td>\n",
       "      <td>0.0</td>\n",
       "      <td>0.0</td>\n",
       "    </tr>\n",
       "  </tbody>\n",
       "</table>\n",
       "<p>5 rows × 122 columns</p>\n",
       "</div>"
      ],
      "text/plain": [
       "   SK_ID_CURR  TARGET NAME_CONTRACT_TYPE CODE_GENDER FLAG_OWN_CAR  \\\n",
       "0      100002       1         Cash loans           M            N   \n",
       "1      100003       0         Cash loans           F            N   \n",
       "2      100004       0    Revolving loans           M            Y   \n",
       "3      100006       0         Cash loans           F            N   \n",
       "4      100007       0         Cash loans           M            N   \n",
       "\n",
       "  FLAG_OWN_REALTY  CNT_CHILDREN  AMT_INCOME_TOTAL  AMT_CREDIT  AMT_ANNUITY  \\\n",
       "0               Y             0          202500.0    406597.5      24700.5   \n",
       "1               N             0          270000.0   1293502.5      35698.5   \n",
       "2               Y             0           67500.0    135000.0       6750.0   \n",
       "3               Y             0          135000.0    312682.5      29686.5   \n",
       "4               Y             0          121500.0    513000.0      21865.5   \n",
       "\n",
       "   ...  FLAG_DOCUMENT_18 FLAG_DOCUMENT_19 FLAG_DOCUMENT_20 FLAG_DOCUMENT_21  \\\n",
       "0  ...                 0                0                0                0   \n",
       "1  ...                 0                0                0                0   \n",
       "2  ...                 0                0                0                0   \n",
       "3  ...                 0                0                0                0   \n",
       "4  ...                 0                0                0                0   \n",
       "\n",
       "  AMT_REQ_CREDIT_BUREAU_HOUR AMT_REQ_CREDIT_BUREAU_DAY  \\\n",
       "0                        0.0                       0.0   \n",
       "1                        0.0                       0.0   \n",
       "2                        0.0                       0.0   \n",
       "3                        NaN                       NaN   \n",
       "4                        0.0                       0.0   \n",
       "\n",
       "   AMT_REQ_CREDIT_BUREAU_WEEK  AMT_REQ_CREDIT_BUREAU_MON  \\\n",
       "0                         0.0                        0.0   \n",
       "1                         0.0                        0.0   \n",
       "2                         0.0                        0.0   \n",
       "3                         NaN                        NaN   \n",
       "4                         0.0                        0.0   \n",
       "\n",
       "   AMT_REQ_CREDIT_BUREAU_QRT  AMT_REQ_CREDIT_BUREAU_YEAR  \n",
       "0                        0.0                         1.0  \n",
       "1                        0.0                         0.0  \n",
       "2                        0.0                         0.0  \n",
       "3                        NaN                         NaN  \n",
       "4                        0.0                         0.0  \n",
       "\n",
       "[5 rows x 122 columns]"
      ]
     },
     "execution_count": 2,
     "metadata": {},
     "output_type": "execute_result"
    }
   ],
   "source": [
    "df_train.head()"
   ]
  },
  {
   "cell_type": "code",
   "execution_count": 3,
   "id": "4ab1e598",
   "metadata": {
    "execution": {
     "iopub.execute_input": "2024-04-17T06:43:10.177304Z",
     "iopub.status.busy": "2024-04-17T06:43:10.175767Z",
     "iopub.status.idle": "2024-04-17T06:43:10.184001Z",
     "shell.execute_reply": "2024-04-17T06:43:10.182608Z"
    },
    "papermill": {
     "duration": 0.032815,
     "end_time": "2024-04-17T06:43:10.186728",
     "exception": false,
     "start_time": "2024-04-17T06:43:10.153913",
     "status": "completed"
    },
    "tags": []
   },
   "outputs": [
    {
     "name": "stdout",
     "output_type": "stream",
     "text": [
      "Index(['SK_ID_CURR', 'TARGET', 'NAME_CONTRACT_TYPE', 'CODE_GENDER',\n",
      "       'FLAG_OWN_CAR', 'FLAG_OWN_REALTY', 'CNT_CHILDREN', 'AMT_INCOME_TOTAL',\n",
      "       'AMT_CREDIT', 'AMT_ANNUITY',\n",
      "       ...\n",
      "       'FLAG_DOCUMENT_18', 'FLAG_DOCUMENT_19', 'FLAG_DOCUMENT_20',\n",
      "       'FLAG_DOCUMENT_21', 'AMT_REQ_CREDIT_BUREAU_HOUR',\n",
      "       'AMT_REQ_CREDIT_BUREAU_DAY', 'AMT_REQ_CREDIT_BUREAU_WEEK',\n",
      "       'AMT_REQ_CREDIT_BUREAU_MON', 'AMT_REQ_CREDIT_BUREAU_QRT',\n",
      "       'AMT_REQ_CREDIT_BUREAU_YEAR'],\n",
      "      dtype='object', length=122)\n"
     ]
    }
   ],
   "source": [
    "# Print all column names in the DataFrame\n",
    "print(df_train.columns)"
   ]
  },
  {
   "cell_type": "code",
   "execution_count": 4,
   "id": "3a47c76f",
   "metadata": {
    "execution": {
     "iopub.execute_input": "2024-04-17T06:43:10.222001Z",
     "iopub.status.busy": "2024-04-17T06:43:10.220718Z",
     "iopub.status.idle": "2024-04-17T06:43:11.321170Z",
     "shell.execute_reply": "2024-04-17T06:43:11.320131Z"
    },
    "papermill": {
     "duration": 1.120505,
     "end_time": "2024-04-17T06:43:11.324293",
     "exception": false,
     "start_time": "2024-04-17T06:43:10.203788",
     "status": "completed"
    },
    "tags": []
   },
   "outputs": [],
   "source": [
    "df_test = pd.read_csv('/kaggle/input/home-credit-default-risk/application_test.csv')"
   ]
  },
  {
   "cell_type": "code",
   "execution_count": 5,
   "id": "d29c7a82",
   "metadata": {
    "execution": {
     "iopub.execute_input": "2024-04-17T06:43:11.360027Z",
     "iopub.status.busy": "2024-04-17T06:43:11.358748Z",
     "iopub.status.idle": "2024-04-17T06:43:11.383517Z",
     "shell.execute_reply": "2024-04-17T06:43:11.382248Z"
    },
    "papermill": {
     "duration": 0.046215,
     "end_time": "2024-04-17T06:43:11.387123",
     "exception": false,
     "start_time": "2024-04-17T06:43:11.340908",
     "status": "completed"
    },
    "tags": []
   },
   "outputs": [],
   "source": [
    "# Fill NaN values in source columns with zero before calculation\n",
    "df_train['EXT_SOURCE_1'] = df_train['EXT_SOURCE_1'].fillna(0)\n",
    "df_train['EXT_SOURCE_2'] = df_train['EXT_SOURCE_2'].fillna(0)\n",
    "df_train['EXT_SOURCE_3'] = df_train['EXT_SOURCE_3'].fillna(0)\n",
    "\n",
    "# Create the new column based on the weighted sum\n",
    "df_train['NEW_EXT_SOURCE'] = (df_train['EXT_SOURCE_2'] * 0.4 + \n",
    "                              df_train['EXT_SOURCE_3'] * 0.33 + \n",
    "                              df_train['EXT_SOURCE_1'] * 0.27).round(6)\n"
   ]
  },
  {
   "cell_type": "code",
   "execution_count": 6,
   "id": "4769ecf7",
   "metadata": {
    "execution": {
     "iopub.execute_input": "2024-04-17T06:43:11.422798Z",
     "iopub.status.busy": "2024-04-17T06:43:11.421598Z",
     "iopub.status.idle": "2024-04-17T06:43:11.432639Z",
     "shell.execute_reply": "2024-04-17T06:43:11.431245Z"
    },
    "papermill": {
     "duration": 0.032616,
     "end_time": "2024-04-17T06:43:11.436111",
     "exception": false,
     "start_time": "2024-04-17T06:43:11.403495",
     "status": "completed"
    },
    "tags": []
   },
   "outputs": [],
   "source": [
    "df_train['PAYMENT_RATE'] = df_train['AMT_ANNUITY'] / df_train['AMT_CREDIT'].round(1)\n",
    "df_test['PAYMENT_RATE'] = df_test['AMT_ANNUITY'] / df_test['AMT_CREDIT'].round(1)"
   ]
  },
  {
   "cell_type": "code",
   "execution_count": 7,
   "id": "3f27821d",
   "metadata": {
    "execution": {
     "iopub.execute_input": "2024-04-17T06:43:11.470587Z",
     "iopub.status.busy": "2024-04-17T06:43:11.470160Z",
     "iopub.status.idle": "2024-04-17T06:43:11.480580Z",
     "shell.execute_reply": "2024-04-17T06:43:11.479206Z"
    },
    "papermill": {
     "duration": 0.031601,
     "end_time": "2024-04-17T06:43:11.483725",
     "exception": false,
     "start_time": "2024-04-17T06:43:11.452124",
     "status": "completed"
    },
    "tags": []
   },
   "outputs": [],
   "source": [
    "# Calculate the mean of the PAYMENT_RATE column, excluding NaN values\n",
    "payment_rate_mean = df_train['PAYMENT_RATE'].mean()\n",
    "\n",
    "# Fill NaN values in the PAYMENT_RATE column with the calculated mean\n",
    "df_train['PAYMENT_RATE'] = df_train['PAYMENT_RATE'].fillna(payment_rate_mean)\n"
   ]
  },
  {
   "cell_type": "code",
   "execution_count": 8,
   "id": "bca885b1",
   "metadata": {
    "execution": {
     "iopub.execute_input": "2024-04-17T06:43:11.520146Z",
     "iopub.status.busy": "2024-04-17T06:43:11.519733Z",
     "iopub.status.idle": "2024-04-17T06:43:11.538965Z",
     "shell.execute_reply": "2024-04-17T06:43:11.537560Z"
    },
    "papermill": {
     "duration": 0.042064,
     "end_time": "2024-04-17T06:43:11.542208",
     "exception": false,
     "start_time": "2024-04-17T06:43:11.500144",
     "status": "completed"
    },
    "tags": []
   },
   "outputs": [],
   "source": [
    "# Calculate the mean of the PAYMENT_RATE column, excluding NaN values\n",
    "payment_rate_mean = df_test['PAYMENT_RATE'].mean()\n",
    "\n",
    "# Fill NaN values in the PAYMENT_RATE column with the calculated mean\n",
    "df_train['PAYMENT_RATE'] = df_test['PAYMENT_RATE'].fillna(payment_rate_mean)\n"
   ]
  },
  {
   "cell_type": "code",
   "execution_count": 9,
   "id": "4d95ee40",
   "metadata": {
    "execution": {
     "iopub.execute_input": "2024-04-17T06:43:11.576571Z",
     "iopub.status.busy": "2024-04-17T06:43:11.576127Z",
     "iopub.status.idle": "2024-04-17T06:43:11.620838Z",
     "shell.execute_reply": "2024-04-17T06:43:11.619490Z"
    },
    "papermill": {
     "duration": 0.065663,
     "end_time": "2024-04-17T06:43:11.623991",
     "exception": false,
     "start_time": "2024-04-17T06:43:11.558328",
     "status": "completed"
    },
    "tags": []
   },
   "outputs": [],
   "source": [
    "selected_columns = ['SK_ID_CURR','TARGET','CODE_GENDER', 'DAYS_BIRTH','CNT_CHILDREN', 'AMT_INCOME_TOTAL', 'AMT_CREDIT', 'AMT_ANNUITY', 'NAME_EDUCATION_TYPE', 'DAYS_EMPLOYED', 'FLAG_OWN_CAR', 'FLAG_OWN_REALTY','NEW_EXT_SOURCE','PAYMENT_RATE']\n",
    "df_train= df_train[selected_columns].copy()\n"
   ]
  },
  {
   "cell_type": "code",
   "execution_count": 10,
   "id": "035f748d",
   "metadata": {
    "execution": {
     "iopub.execute_input": "2024-04-17T06:43:11.658253Z",
     "iopub.status.busy": "2024-04-17T06:43:11.657821Z",
     "iopub.status.idle": "2024-04-17T06:43:11.672082Z",
     "shell.execute_reply": "2024-04-17T06:43:11.670586Z"
    },
    "papermill": {
     "duration": 0.035094,
     "end_time": "2024-04-17T06:43:11.675179",
     "exception": false,
     "start_time": "2024-04-17T06:43:11.640085",
     "status": "completed"
    },
    "tags": []
   },
   "outputs": [],
   "source": [
    "# Fill NaN values in source columns with zero before calculation in df_test\n",
    "df_test['EXT_SOURCE_1'] = df_test['EXT_SOURCE_1'].fillna(0)\n",
    "df_test['EXT_SOURCE_2'] = df_test['EXT_SOURCE_2'].fillna(0)\n",
    "df_test['EXT_SOURCE_3'] = df_test['EXT_SOURCE_3'].fillna(0)\n",
    "\n",
    "# Assuming df_test is your DataFrame that already includes EXT_SOURCE_1, EXT_SOURCE_2, and EXT_SOURCE_3\n",
    "df_test['NEW_EXT_SOURCE'] = (df_test['EXT_SOURCE_2'] * 0.4 + \n",
    "                              df_test['EXT_SOURCE_3'] * 0.33 + \n",
    "                              df_test['EXT_SOURCE_1'] * 0.27).round(6)"
   ]
  },
  {
   "cell_type": "code",
   "execution_count": 11,
   "id": "a32d092c",
   "metadata": {
    "execution": {
     "iopub.execute_input": "2024-04-17T06:43:11.708606Z",
     "iopub.status.busy": "2024-04-17T06:43:11.707951Z",
     "iopub.status.idle": "2024-04-17T06:43:11.723896Z",
     "shell.execute_reply": "2024-04-17T06:43:11.722974Z"
    },
    "papermill": {
     "duration": 0.035663,
     "end_time": "2024-04-17T06:43:11.726544",
     "exception": false,
     "start_time": "2024-04-17T06:43:11.690881",
     "status": "completed"
    },
    "tags": []
   },
   "outputs": [],
   "source": [
    "selected_columns = ['SK_ID_CURR','CODE_GENDER', 'DAYS_BIRTH', 'CNT_CHILDREN','AMT_INCOME_TOTAL', 'AMT_CREDIT', 'AMT_ANNUITY', 'NAME_EDUCATION_TYPE', 'DAYS_EMPLOYED', 'FLAG_OWN_CAR', 'FLAG_OWN_REALTY','NEW_EXT_SOURCE','PAYMENT_RATE']\n",
    "df_test= df_test[selected_columns].copy()"
   ]
  },
  {
   "cell_type": "code",
   "execution_count": 12,
   "id": "55707913",
   "metadata": {
    "execution": {
     "iopub.execute_input": "2024-04-17T06:43:11.759820Z",
     "iopub.status.busy": "2024-04-17T06:43:11.759185Z",
     "iopub.status.idle": "2024-04-17T06:43:11.778223Z",
     "shell.execute_reply": "2024-04-17T06:43:11.777051Z"
    },
    "papermill": {
     "duration": 0.038886,
     "end_time": "2024-04-17T06:43:11.780792",
     "exception": false,
     "start_time": "2024-04-17T06:43:11.741906",
     "status": "completed"
    },
    "tags": []
   },
   "outputs": [
    {
     "data": {
      "text/html": [
       "<div>\n",
       "<style scoped>\n",
       "    .dataframe tbody tr th:only-of-type {\n",
       "        vertical-align: middle;\n",
       "    }\n",
       "\n",
       "    .dataframe tbody tr th {\n",
       "        vertical-align: top;\n",
       "    }\n",
       "\n",
       "    .dataframe thead th {\n",
       "        text-align: right;\n",
       "    }\n",
       "</style>\n",
       "<table border=\"1\" class=\"dataframe\">\n",
       "  <thead>\n",
       "    <tr style=\"text-align: right;\">\n",
       "      <th></th>\n",
       "      <th>SK_ID_CURR</th>\n",
       "      <th>TARGET</th>\n",
       "      <th>CODE_GENDER</th>\n",
       "      <th>DAYS_BIRTH</th>\n",
       "      <th>CNT_CHILDREN</th>\n",
       "      <th>AMT_INCOME_TOTAL</th>\n",
       "      <th>AMT_CREDIT</th>\n",
       "      <th>AMT_ANNUITY</th>\n",
       "      <th>NAME_EDUCATION_TYPE</th>\n",
       "      <th>DAYS_EMPLOYED</th>\n",
       "      <th>FLAG_OWN_CAR</th>\n",
       "      <th>FLAG_OWN_REALTY</th>\n",
       "      <th>NEW_EXT_SOURCE</th>\n",
       "      <th>PAYMENT_RATE</th>\n",
       "    </tr>\n",
       "  </thead>\n",
       "  <tbody>\n",
       "    <tr>\n",
       "      <th>0</th>\n",
       "      <td>100002</td>\n",
       "      <td>1</td>\n",
       "      <td>M</td>\n",
       "      <td>-9461</td>\n",
       "      <td>0</td>\n",
       "      <td>202500.0</td>\n",
       "      <td>406597.5</td>\n",
       "      <td>24700.5</td>\n",
       "      <td>Secondary / secondary special</td>\n",
       "      <td>-637</td>\n",
       "      <td>N</td>\n",
       "      <td>Y</td>\n",
       "      <td>0.173593</td>\n",
       "      <td>0.036147</td>\n",
       "    </tr>\n",
       "    <tr>\n",
       "      <th>1</th>\n",
       "      <td>100003</td>\n",
       "      <td>0</td>\n",
       "      <td>F</td>\n",
       "      <td>-16765</td>\n",
       "      <td>0</td>\n",
       "      <td>270000.0</td>\n",
       "      <td>1293502.5</td>\n",
       "      <td>35698.5</td>\n",
       "      <td>Higher education</td>\n",
       "      <td>-1188</td>\n",
       "      <td>N</td>\n",
       "      <td>N</td>\n",
       "      <td>0.332940</td>\n",
       "      <td>0.077973</td>\n",
       "    </tr>\n",
       "    <tr>\n",
       "      <th>2</th>\n",
       "      <td>100004</td>\n",
       "      <td>0</td>\n",
       "      <td>M</td>\n",
       "      <td>-19046</td>\n",
       "      <td>0</td>\n",
       "      <td>67500.0</td>\n",
       "      <td>135000.0</td>\n",
       "      <td>6750.0</td>\n",
       "      <td>Secondary / secondary special</td>\n",
       "      <td>-225</td>\n",
       "      <td>Y</td>\n",
       "      <td>Y</td>\n",
       "      <td>0.463122</td>\n",
       "      <td>0.105202</td>\n",
       "    </tr>\n",
       "    <tr>\n",
       "      <th>3</th>\n",
       "      <td>100006</td>\n",
       "      <td>0</td>\n",
       "      <td>F</td>\n",
       "      <td>-19005</td>\n",
       "      <td>0</td>\n",
       "      <td>135000.0</td>\n",
       "      <td>312682.5</td>\n",
       "      <td>29686.5</td>\n",
       "      <td>Secondary / secondary special</td>\n",
       "      <td>-3039</td>\n",
       "      <td>N</td>\n",
       "      <td>Y</td>\n",
       "      <td>0.260177</td>\n",
       "      <td>0.031123</td>\n",
       "    </tr>\n",
       "    <tr>\n",
       "      <th>4</th>\n",
       "      <td>100007</td>\n",
       "      <td>0</td>\n",
       "      <td>M</td>\n",
       "      <td>-19932</td>\n",
       "      <td>0</td>\n",
       "      <td>121500.0</td>\n",
       "      <td>513000.0</td>\n",
       "      <td>21865.5</td>\n",
       "      <td>Secondary / secondary special</td>\n",
       "      <td>-3038</td>\n",
       "      <td>N</td>\n",
       "      <td>Y</td>\n",
       "      <td>0.129095</td>\n",
       "      <td>0.051266</td>\n",
       "    </tr>\n",
       "  </tbody>\n",
       "</table>\n",
       "</div>"
      ],
      "text/plain": [
       "   SK_ID_CURR  TARGET CODE_GENDER  DAYS_BIRTH  CNT_CHILDREN  AMT_INCOME_TOTAL  \\\n",
       "0      100002       1           M       -9461             0          202500.0   \n",
       "1      100003       0           F      -16765             0          270000.0   \n",
       "2      100004       0           M      -19046             0           67500.0   \n",
       "3      100006       0           F      -19005             0          135000.0   \n",
       "4      100007       0           M      -19932             0          121500.0   \n",
       "\n",
       "   AMT_CREDIT  AMT_ANNUITY            NAME_EDUCATION_TYPE  DAYS_EMPLOYED  \\\n",
       "0    406597.5      24700.5  Secondary / secondary special           -637   \n",
       "1   1293502.5      35698.5               Higher education          -1188   \n",
       "2    135000.0       6750.0  Secondary / secondary special           -225   \n",
       "3    312682.5      29686.5  Secondary / secondary special          -3039   \n",
       "4    513000.0      21865.5  Secondary / secondary special          -3038   \n",
       "\n",
       "  FLAG_OWN_CAR FLAG_OWN_REALTY  NEW_EXT_SOURCE  PAYMENT_RATE  \n",
       "0            N               Y        0.173593      0.036147  \n",
       "1            N               N        0.332940      0.077973  \n",
       "2            Y               Y        0.463122      0.105202  \n",
       "3            N               Y        0.260177      0.031123  \n",
       "4            N               Y        0.129095      0.051266  "
      ]
     },
     "execution_count": 12,
     "metadata": {},
     "output_type": "execute_result"
    }
   ],
   "source": [
    "df_train.head()"
   ]
  },
  {
   "cell_type": "code",
   "execution_count": 13,
   "id": "955d3c24",
   "metadata": {
    "execution": {
     "iopub.execute_input": "2024-04-17T06:43:11.815455Z",
     "iopub.status.busy": "2024-04-17T06:43:11.814825Z",
     "iopub.status.idle": "2024-04-17T06:43:11.834277Z",
     "shell.execute_reply": "2024-04-17T06:43:11.832804Z"
    },
    "papermill": {
     "duration": 0.040617,
     "end_time": "2024-04-17T06:43:11.837000",
     "exception": false,
     "start_time": "2024-04-17T06:43:11.796383",
     "status": "completed"
    },
    "tags": []
   },
   "outputs": [
    {
     "data": {
      "text/html": [
       "<div>\n",
       "<style scoped>\n",
       "    .dataframe tbody tr th:only-of-type {\n",
       "        vertical-align: middle;\n",
       "    }\n",
       "\n",
       "    .dataframe tbody tr th {\n",
       "        vertical-align: top;\n",
       "    }\n",
       "\n",
       "    .dataframe thead th {\n",
       "        text-align: right;\n",
       "    }\n",
       "</style>\n",
       "<table border=\"1\" class=\"dataframe\">\n",
       "  <thead>\n",
       "    <tr style=\"text-align: right;\">\n",
       "      <th></th>\n",
       "      <th>SK_ID_CURR</th>\n",
       "      <th>CODE_GENDER</th>\n",
       "      <th>DAYS_BIRTH</th>\n",
       "      <th>CNT_CHILDREN</th>\n",
       "      <th>AMT_INCOME_TOTAL</th>\n",
       "      <th>AMT_CREDIT</th>\n",
       "      <th>AMT_ANNUITY</th>\n",
       "      <th>NAME_EDUCATION_TYPE</th>\n",
       "      <th>DAYS_EMPLOYED</th>\n",
       "      <th>FLAG_OWN_CAR</th>\n",
       "      <th>FLAG_OWN_REALTY</th>\n",
       "      <th>NEW_EXT_SOURCE</th>\n",
       "      <th>PAYMENT_RATE</th>\n",
       "    </tr>\n",
       "  </thead>\n",
       "  <tbody>\n",
       "    <tr>\n",
       "      <th>0</th>\n",
       "      <td>100001</td>\n",
       "      <td>F</td>\n",
       "      <td>-19241</td>\n",
       "      <td>0</td>\n",
       "      <td>135000.0</td>\n",
       "      <td>568800.0</td>\n",
       "      <td>20560.5</td>\n",
       "      <td>Higher education</td>\n",
       "      <td>-2329</td>\n",
       "      <td>N</td>\n",
       "      <td>Y</td>\n",
       "      <td>0.571709</td>\n",
       "      <td>0.036147</td>\n",
       "    </tr>\n",
       "    <tr>\n",
       "      <th>1</th>\n",
       "      <td>100005</td>\n",
       "      <td>M</td>\n",
       "      <td>-18064</td>\n",
       "      <td>0</td>\n",
       "      <td>99000.0</td>\n",
       "      <td>222768.0</td>\n",
       "      <td>17370.0</td>\n",
       "      <td>Secondary / secondary special</td>\n",
       "      <td>-4469</td>\n",
       "      <td>N</td>\n",
       "      <td>Y</td>\n",
       "      <td>0.412087</td>\n",
       "      <td>0.077973</td>\n",
       "    </tr>\n",
       "    <tr>\n",
       "      <th>2</th>\n",
       "      <td>100013</td>\n",
       "      <td>M</td>\n",
       "      <td>-20038</td>\n",
       "      <td>0</td>\n",
       "      <td>202500.0</td>\n",
       "      <td>663264.0</td>\n",
       "      <td>69777.0</td>\n",
       "      <td>Higher education</td>\n",
       "      <td>-4458</td>\n",
       "      <td>Y</td>\n",
       "      <td>Y</td>\n",
       "      <td>0.481542</td>\n",
       "      <td>0.105202</td>\n",
       "    </tr>\n",
       "    <tr>\n",
       "      <th>3</th>\n",
       "      <td>100028</td>\n",
       "      <td>F</td>\n",
       "      <td>-13976</td>\n",
       "      <td>2</td>\n",
       "      <td>315000.0</td>\n",
       "      <td>1575000.0</td>\n",
       "      <td>49018.5</td>\n",
       "      <td>Secondary / secondary special</td>\n",
       "      <td>-1866</td>\n",
       "      <td>N</td>\n",
       "      <td>Y</td>\n",
       "      <td>0.548011</td>\n",
       "      <td>0.031123</td>\n",
       "    </tr>\n",
       "    <tr>\n",
       "      <th>4</th>\n",
       "      <td>100038</td>\n",
       "      <td>M</td>\n",
       "      <td>-13040</td>\n",
       "      <td>1</td>\n",
       "      <td>180000.0</td>\n",
       "      <td>625500.0</td>\n",
       "      <td>32067.0</td>\n",
       "      <td>Secondary / secondary special</td>\n",
       "      <td>-2191</td>\n",
       "      <td>Y</td>\n",
       "      <td>N</td>\n",
       "      <td>0.224854</td>\n",
       "      <td>0.051266</td>\n",
       "    </tr>\n",
       "  </tbody>\n",
       "</table>\n",
       "</div>"
      ],
      "text/plain": [
       "   SK_ID_CURR CODE_GENDER  DAYS_BIRTH  CNT_CHILDREN  AMT_INCOME_TOTAL  \\\n",
       "0      100001           F      -19241             0          135000.0   \n",
       "1      100005           M      -18064             0           99000.0   \n",
       "2      100013           M      -20038             0          202500.0   \n",
       "3      100028           F      -13976             2          315000.0   \n",
       "4      100038           M      -13040             1          180000.0   \n",
       "\n",
       "   AMT_CREDIT  AMT_ANNUITY            NAME_EDUCATION_TYPE  DAYS_EMPLOYED  \\\n",
       "0    568800.0      20560.5               Higher education          -2329   \n",
       "1    222768.0      17370.0  Secondary / secondary special          -4469   \n",
       "2    663264.0      69777.0               Higher education          -4458   \n",
       "3   1575000.0      49018.5  Secondary / secondary special          -1866   \n",
       "4    625500.0      32067.0  Secondary / secondary special          -2191   \n",
       "\n",
       "  FLAG_OWN_CAR FLAG_OWN_REALTY  NEW_EXT_SOURCE  PAYMENT_RATE  \n",
       "0            N               Y        0.571709      0.036147  \n",
       "1            N               Y        0.412087      0.077973  \n",
       "2            Y               Y        0.481542      0.105202  \n",
       "3            N               Y        0.548011      0.031123  \n",
       "4            Y               N        0.224854      0.051266  "
      ]
     },
     "execution_count": 13,
     "metadata": {},
     "output_type": "execute_result"
    }
   ],
   "source": [
    "df_test.head()"
   ]
  },
  {
   "cell_type": "code",
   "execution_count": 14,
   "id": "066873fb",
   "metadata": {
    "execution": {
     "iopub.execute_input": "2024-04-17T06:43:11.871617Z",
     "iopub.status.busy": "2024-04-17T06:43:11.871236Z",
     "iopub.status.idle": "2024-04-17T06:43:11.882169Z",
     "shell.execute_reply": "2024-04-17T06:43:11.880678Z"
    },
    "papermill": {
     "duration": 0.031653,
     "end_time": "2024-04-17T06:43:11.884804",
     "exception": false,
     "start_time": "2024-04-17T06:43:11.853151",
     "status": "completed"
    },
    "tags": []
   },
   "outputs": [],
   "source": [
    "def grab_col_names(dataframe, cat_th=4, car_th=20):\n",
    "\n",
    "\n",
    "    cat_cols = [col for col in dataframe.columns if dataframe[col].dtypes == \"O\"]\n",
    "\n",
    "    num_but_cat = [col for col in dataframe.columns if dataframe[col].nunique() < cat_th and\n",
    "                   dataframe[col].dtypes != \"O\"]\n",
    "\n",
    "    cat_but_car = [col for col in dataframe.columns if dataframe[col].nunique() > car_th and\n",
    "                   dataframe[col].dtypes == \"O\"]\n",
    "\n",
    "    cat_cols = cat_cols + num_but_cat\n",
    "    cat_cols = [col for col in cat_cols if col not in cat_but_car]\n",
    "\n",
    "    num_cols = [col for col in dataframe.columns if dataframe[col].dtypes != \"O\"]\n",
    "    num_cols = [col for col in num_cols if col not in num_but_cat]\n",
    "\n",
    "    print(f\"Observations: {dataframe.shape[0]}\")\n",
    "    print(f\"Variables: {dataframe.shape[1]}\")\n",
    "    print(f'cat_cols: {len(cat_cols)}')\n",
    "    print(f'num_cols: {len(num_cols)}')\n",
    "    print(f'cat_but_car: {len(cat_but_car)}')\n",
    "    print(f'num_but_cat: {len(num_but_cat)}')\n",
    "\n",
    "\n",
    "\n",
    "    return cat_cols, cat_but_car, num_cols"
   ]
  },
  {
   "cell_type": "code",
   "execution_count": 15,
   "id": "089cc6d8",
   "metadata": {
    "execution": {
     "iopub.execute_input": "2024-04-17T06:43:11.919758Z",
     "iopub.status.busy": "2024-04-17T06:43:11.919314Z",
     "iopub.status.idle": "2024-04-17T06:43:12.247786Z",
     "shell.execute_reply": "2024-04-17T06:43:12.245528Z"
    },
    "papermill": {
     "duration": 0.349331,
     "end_time": "2024-04-17T06:43:12.250663",
     "exception": false,
     "start_time": "2024-04-17T06:43:11.901332",
     "status": "completed"
    },
    "tags": []
   },
   "outputs": [
    {
     "name": "stdout",
     "output_type": "stream",
     "text": [
      "Observations: 307511\n",
      "Variables: 14\n",
      "cat_cols: 5\n",
      "num_cols: 9\n",
      "cat_but_car: 0\n",
      "num_but_cat: 1\n"
     ]
    }
   ],
   "source": [
    "cat_cols, cat_but_car, num_cols = grab_col_names(df_train)"
   ]
  },
  {
   "cell_type": "code",
   "execution_count": 16,
   "id": "9cf97ce0",
   "metadata": {
    "execution": {
     "iopub.execute_input": "2024-04-17T06:43:12.284921Z",
     "iopub.status.busy": "2024-04-17T06:43:12.284493Z",
     "iopub.status.idle": "2024-04-17T06:43:12.346796Z",
     "shell.execute_reply": "2024-04-17T06:43:12.344917Z"
    },
    "papermill": {
     "duration": 0.083117,
     "end_time": "2024-04-17T06:43:12.349975",
     "exception": false,
     "start_time": "2024-04-17T06:43:12.266858",
     "status": "completed"
    },
    "tags": []
   },
   "outputs": [
    {
     "name": "stdout",
     "output_type": "stream",
     "text": [
      "Observations: 48744\n",
      "Variables: 13\n",
      "cat_cols: 4\n",
      "num_cols: 9\n",
      "cat_but_car: 0\n",
      "num_but_cat: 0\n"
     ]
    }
   ],
   "source": [
    "cat_cols, cat_but_car, num_cols = grab_col_names(df_test)"
   ]
  },
  {
   "cell_type": "code",
   "execution_count": 17,
   "id": "1ec4454e",
   "metadata": {
    "execution": {
     "iopub.execute_input": "2024-04-17T06:43:12.386931Z",
     "iopub.status.busy": "2024-04-17T06:43:12.386442Z",
     "iopub.status.idle": "2024-04-17T06:43:12.394072Z",
     "shell.execute_reply": "2024-04-17T06:43:12.392774Z"
    },
    "papermill": {
     "duration": 0.029786,
     "end_time": "2024-04-17T06:43:12.396858",
     "exception": false,
     "start_time": "2024-04-17T06:43:12.367072",
     "status": "completed"
    },
    "tags": []
   },
   "outputs": [],
   "source": [
    "# Aykırı değerlerin baskılanması\n",
    "def outlier_thresholds(dataframe, variable, low_quantile=0.01, up_quantile=0.99):\n",
    "    quantile_one = dataframe[variable].quantile(low_quantile)\n",
    "    quantile_three = dataframe[variable].quantile(up_quantile)\n",
    "    interquantile_range = quantile_three - quantile_one\n",
    "    up_limit = quantile_three + 1.5 * interquantile_range\n",
    "    low_limit = quantile_one - 1.5 * interquantile_range\n",
    "    return low_limit, up_limit"
   ]
  },
  {
   "cell_type": "code",
   "execution_count": 18,
   "id": "957ee6a2",
   "metadata": {
    "execution": {
     "iopub.execute_input": "2024-04-17T06:43:12.436574Z",
     "iopub.status.busy": "2024-04-17T06:43:12.436127Z",
     "iopub.status.idle": "2024-04-17T06:43:12.554726Z",
     "shell.execute_reply": "2024-04-17T06:43:12.553471Z"
    },
    "papermill": {
     "duration": 0.142477,
     "end_time": "2024-04-17T06:43:12.557913",
     "exception": false,
     "start_time": "2024-04-17T06:43:12.415436",
     "status": "completed"
    },
    "tags": []
   },
   "outputs": [
    {
     "name": "stdout",
     "output_type": "stream",
     "text": [
      "SK_ID_CURR False\n",
      "DAYS_BIRTH False\n",
      "CNT_CHILDREN True\n",
      "AMT_INCOME_TOTAL True\n",
      "AMT_CREDIT False\n",
      "AMT_ANNUITY True\n",
      "DAYS_EMPLOYED False\n",
      "NEW_EXT_SOURCE False\n",
      "PAYMENT_RATE False\n"
     ]
    }
   ],
   "source": [
    "def check_outlier(dataframe, col_name):\n",
    "    low_limit, up_limit = outlier_thresholds(dataframe, col_name)\n",
    "    if dataframe[(dataframe[col_name] > up_limit) | (dataframe[col_name] < low_limit)].any(axis=None):\n",
    "        return True\n",
    "    else:\n",
    "        return False\n",
    "\n",
    "\n",
    "for col in num_cols:\n",
    "    if col != \"TARGET\":\n",
    "      print(col, check_outlier(df_train, col))"
   ]
  },
  {
   "cell_type": "code",
   "execution_count": 19,
   "id": "1b019076",
   "metadata": {
    "execution": {
     "iopub.execute_input": "2024-04-17T06:43:12.595448Z",
     "iopub.status.busy": "2024-04-17T06:43:12.594187Z",
     "iopub.status.idle": "2024-04-17T06:43:12.602202Z",
     "shell.execute_reply": "2024-04-17T06:43:12.600999Z"
    },
    "papermill": {
     "duration": 0.02993,
     "end_time": "2024-04-17T06:43:12.605046",
     "exception": false,
     "start_time": "2024-04-17T06:43:12.575116",
     "status": "completed"
    },
    "tags": []
   },
   "outputs": [],
   "source": [
    "def replace_with_thresholds(dataframe, variable):\n",
    "    low_limit, up_limit = outlier_thresholds(dataframe, variable)\n",
    "    dataframe.loc[(dataframe[variable] < low_limit), variable] = low_limit\n",
    "    dataframe.loc[(dataframe[variable] > up_limit), variable] = up_limit"
   ]
  },
  {
   "cell_type": "code",
   "execution_count": 20,
   "id": "20ace74d",
   "metadata": {
    "execution": {
     "iopub.execute_input": "2024-04-17T06:43:12.642578Z",
     "iopub.status.busy": "2024-04-17T06:43:12.641572Z",
     "iopub.status.idle": "2024-04-17T06:43:12.780325Z",
     "shell.execute_reply": "2024-04-17T06:43:12.778840Z"
    },
    "papermill": {
     "duration": 0.161534,
     "end_time": "2024-04-17T06:43:12.783901",
     "exception": false,
     "start_time": "2024-04-17T06:43:12.622367",
     "status": "completed"
    },
    "tags": []
   },
   "outputs": [
    {
     "name": "stderr",
     "output_type": "stream",
     "text": [
      "/tmp/ipykernel_18/130684917.py:3: FutureWarning: Setting an item of incompatible dtype is deprecated and will raise an error in a future version of pandas. Value '-420093.85000000003' has dtype incompatible with int64, please explicitly cast to a compatible dtype first.\n",
      "  dataframe.loc[(dataframe[variable] < low_limit), variable] = low_limit\n",
      "/tmp/ipykernel_18/130684917.py:3: FutureWarning: Setting an item of incompatible dtype is deprecated and will raise an error in a future version of pandas. Value '-4.5' has dtype incompatible with int64, please explicitly cast to a compatible dtype first.\n",
      "  dataframe.loc[(dataframe[variable] < low_limit), variable] = low_limit\n",
      "/tmp/ipykernel_18/130684917.py:3: FutureWarning: Setting an item of incompatible dtype is deprecated and will raise an error in a future version of pandas. Value '-575101.7500000001' has dtype incompatible with int64, please explicitly cast to a compatible dtype first.\n",
      "  dataframe.loc[(dataframe[variable] < low_limit), variable] = low_limit\n"
     ]
    }
   ],
   "source": [
    "for col in num_cols:\n",
    "    if col != \"TARGET\":\n",
    "        replace_with_thresholds(df_train,col)"
   ]
  },
  {
   "cell_type": "code",
   "execution_count": 21,
   "id": "085b35c1",
   "metadata": {
    "execution": {
     "iopub.execute_input": "2024-04-17T06:43:12.820935Z",
     "iopub.status.busy": "2024-04-17T06:43:12.820462Z",
     "iopub.status.idle": "2024-04-17T06:43:12.869877Z",
     "shell.execute_reply": "2024-04-17T06:43:12.868718Z"
    },
    "papermill": {
     "duration": 0.071984,
     "end_time": "2024-04-17T06:43:12.873147",
     "exception": false,
     "start_time": "2024-04-17T06:43:12.801163",
     "status": "completed"
    },
    "tags": []
   },
   "outputs": [
    {
     "name": "stderr",
     "output_type": "stream",
     "text": [
      "/tmp/ipykernel_18/130684917.py:3: FutureWarning: Setting an item of incompatible dtype is deprecated and will raise an error in a future version of pandas. Value '-420213.28' has dtype incompatible with int64, please explicitly cast to a compatible dtype first.\n",
      "  dataframe.loc[(dataframe[variable] < low_limit), variable] = low_limit\n",
      "/tmp/ipykernel_18/130684917.py:3: FutureWarning: Setting an item of incompatible dtype is deprecated and will raise an error in a future version of pandas. Value '-4.5' has dtype incompatible with int64, please explicitly cast to a compatible dtype first.\n",
      "  dataframe.loc[(dataframe[variable] < low_limit), variable] = low_limit\n",
      "/tmp/ipykernel_18/130684917.py:3: FutureWarning: Setting an item of incompatible dtype is deprecated and will raise an error in a future version of pandas. Value '-574440.2000000001' has dtype incompatible with int64, please explicitly cast to a compatible dtype first.\n",
      "  dataframe.loc[(dataframe[variable] < low_limit), variable] = low_limit\n"
     ]
    }
   ],
   "source": [
    "for col in num_cols:\n",
    "    if col != \"TARGET\":\n",
    "        replace_with_thresholds(df_test,col)"
   ]
  },
  {
   "cell_type": "code",
   "execution_count": 22,
   "id": "63b180f6",
   "metadata": {
    "execution": {
     "iopub.execute_input": "2024-04-17T06:43:13.005282Z",
     "iopub.status.busy": "2024-04-17T06:43:13.004812Z",
     "iopub.status.idle": "2024-04-17T06:43:13.043454Z",
     "shell.execute_reply": "2024-04-17T06:43:13.042031Z"
    },
    "papermill": {
     "duration": 0.156164,
     "end_time": "2024-04-17T06:43:13.046690",
     "exception": false,
     "start_time": "2024-04-17T06:43:12.890526",
     "status": "completed"
    },
    "tags": []
   },
   "outputs": [],
   "source": [
    "# Convert annual income to integer\n",
    "df_train['Annual_Income'] = df_train['AMT_INCOME_TOTAL'].astype(int)\n",
    "\n",
    "# Convert credit amount to integer\n",
    "df_train['Loan_Amount'] = df_train['AMT_CREDIT'].astype(int)\n",
    "\n",
    "# Calculate loan term as the ratio of credit amount to annuity amount, handling infinities and missing values\n",
    "if 'AMT_ANNUITY' in df_train.columns:\n",
    "    df_train['Loan_Term'] = df_train['AMT_CREDIT'] / df_train['AMT_ANNUITY']\n",
    "    df_train['Loan_Term'] = df_train['Loan_Term'].replace([np.inf, -np.inf], np.nan)  # Replace infinite values with NaN\n",
    "    df_train['Loan_Term'] = df_train['Loan_Term'].fillna(0)  # Fill NaN values with zero\n",
    "    df_train['Loan_Term'] = df_train['Loan_Term'].astype(int)  # Convert to integer\n",
    "else:\n",
    "    df_train['Loan_Term'] = 0  # Assign zero if AMT_ANNUITY is not present\n",
    "\n",
    "# Calculate total years of employment\n",
    "df_train['Employment_Years'] = (df_train['DAYS_EMPLOYED'].abs() / 365).astype(int)\n",
    "\n",
    "# Convert days of birth from negative to positive and calculate age in years\n",
    "df_train['Age'] = (df_train['DAYS_BIRTH'].abs() / 365).astype(int)\n",
    "\n",
    "# Convert number of children to integer\n",
    "df_train['CNT_CHILDREN'] = df_train['CNT_CHILDREN'].astype(int)\n"
   ]
  },
  {
   "cell_type": "code",
   "execution_count": 23,
   "id": "e54a9b66",
   "metadata": {
    "execution": {
     "iopub.execute_input": "2024-04-17T06:43:13.085929Z",
     "iopub.status.busy": "2024-04-17T06:43:13.084822Z",
     "iopub.status.idle": "2024-04-17T06:43:13.102166Z",
     "shell.execute_reply": "2024-04-17T06:43:13.101134Z"
    },
    "papermill": {
     "duration": 0.040175,
     "end_time": "2024-04-17T06:43:13.105044",
     "exception": false,
     "start_time": "2024-04-17T06:43:13.064869",
     "status": "completed"
    },
    "tags": []
   },
   "outputs": [],
   "source": [
    "# Yıllık Gelir\n",
    "df_test['Annual_Income'] = df_test['AMT_INCOME_TOTAL'].astype(int)\n",
    "\n",
    "# Kredi Miktarı\n",
    "df_test['Loan_Amount'] = df_test['AMT_CREDIT'].astype(int)\n",
    "\n",
    "# Kredi Süresi\n",
    "if 'AMT_ANNUITY' in df_test.columns:\n",
    "    df_test['Loan_Term'] = df_test['AMT_CREDIT'] / df_test['AMT_ANNUITY']\n",
    "    df_test['Loan_Term'] = df_test['Loan_Term'].replace([np.inf, -np.inf], np.nan)  # Replace infinite values with NaN\n",
    "    df_test['Loan_Term'] = df_test['Loan_Term'].fillna(0)  # Fill NaN values with zero\n",
    "    df_test['Loan_Term'] = df_test['Loan_Term'].astype(int)  # Convert loan term into an integer\n",
    "else:\n",
    "    df_test['Loan_Term'] = 0  # Default loan term to zero if 'AMT_ANNUITY' column is missing\n",
    "\n",
    "# Total Employment Years\n",
    "df_test['Employment_Years'] = (df_test['DAYS_EMPLOYED'].abs() / 365).astype(int)\n",
    "\n",
    "# Convert negative values in DAYS_BIRTH to positive and then to age in years\n",
    "df_test['Age'] = (df_test['DAYS_BIRTH'].abs() / 365).astype(int)\n",
    "\n",
    "# Convert number of children to integer\n",
    "df_test['CNT_CHILDREN'] = df_test['CNT_CHILDREN'].astype(int)"
   ]
  },
  {
   "cell_type": "code",
   "execution_count": 24,
   "id": "1d5d272f",
   "metadata": {
    "execution": {
     "iopub.execute_input": "2024-04-17T06:43:13.143493Z",
     "iopub.status.busy": "2024-04-17T06:43:13.142527Z",
     "iopub.status.idle": "2024-04-17T06:43:15.050302Z",
     "shell.execute_reply": "2024-04-17T06:43:15.048515Z"
    },
    "papermill": {
     "duration": 1.931049,
     "end_time": "2024-04-17T06:43:15.053731",
     "exception": false,
     "start_time": "2024-04-17T06:43:13.122682",
     "status": "completed"
    },
    "tags": []
   },
   "outputs": [],
   "source": [
    "from sklearn.preprocessing import LabelEncoder\n",
    "\n",
    "# Create a LabelEncoder object\n",
    "label_encoder = LabelEncoder()\n",
    "\n",
    "# Encode 'CODE_GENDER' column in df_train\n",
    "df_train['CODE_GENDER_encoded'] = label_encoder.fit_transform(df_train['CODE_GENDER'])\n",
    "\n",
    "# Reset the encoder and encode 'NAME_EDUCATION_TYPE' column in df_train\n",
    "label_encoder = LabelEncoder()  # Reinitialize the LabelEncoder\n",
    "df_train['NAME_EDUCATION_TYPE_encoded'] = label_encoder.fit_transform(df_train['NAME_EDUCATION_TYPE'])\n",
    "\n",
    "# Reset the encoder and encode 'FLAG_OWN_CAR' column in df_train\n",
    "label_encoder = LabelEncoder()  # Reinitialize the LabelEncoder\n",
    "df_train['FLAG_OWN_CAR_encoded'] = label_encoder.fit_transform(df_train['FLAG_OWN_CAR'])\n",
    "\n",
    "# Reset the encoder and encode 'FLAG_OWN_REALTY' column in df_train\n",
    "label_encoder = LabelEncoder()  # Reinitialize the LabelEncoder\n",
    "df_train['FLAG_OWN_REALTY_encoded'] = label_encoder.fit_transform(df_train['FLAG_OWN_REALTY'])\n",
    "\n"
   ]
  },
  {
   "cell_type": "code",
   "execution_count": 25,
   "id": "4c7d563c",
   "metadata": {
    "execution": {
     "iopub.execute_input": "2024-04-17T06:43:15.092080Z",
     "iopub.status.busy": "2024-04-17T06:43:15.090868Z",
     "iopub.status.idle": "2024-04-17T06:43:15.159597Z",
     "shell.execute_reply": "2024-04-17T06:43:15.158168Z"
    },
    "papermill": {
     "duration": 0.090828,
     "end_time": "2024-04-17T06:43:15.162567",
     "exception": false,
     "start_time": "2024-04-17T06:43:15.071739",
     "status": "completed"
    },
    "tags": []
   },
   "outputs": [],
   "source": [
    "from sklearn.preprocessing import LabelEncoder\n",
    "\n",
    "# Create a LabelEncoder object\n",
    "label_encoder = LabelEncoder()\n",
    "\n",
    "# Encode 'CODE_GENDER' column in df_test\n",
    "df_test['CODE_GENDER_encoded'] = label_encoder.fit_transform(df_test['CODE_GENDER'])\n",
    "\n",
    "# Reset the encoder and encode 'NAME_EDUCATION_TYPE' column in df_test\n",
    "label_encoder = LabelEncoder()  # Reinitialize the LabelEncoder\n",
    "df_test['NAME_EDUCATION_TYPE_encoded'] = label_encoder.fit_transform(df_test['NAME_EDUCATION_TYPE'])\n",
    "\n",
    "# Reset the encoder and encode 'FLAG_OWN_CAR' column in df_test\n",
    "label_encoder = LabelEncoder()  # Reinitialize the LabelEncoder\n",
    "df_test['FLAG_OWN_CAR_encoded'] = label_encoder.fit_transform(df_test['FLAG_OWN_CAR'])\n",
    "\n",
    "# Reset the encoder and encode 'FLAG_OWN_REALTY' column in df_test\n",
    "label_encoder = LabelEncoder()  # Reinitialize the LabelEncoder\n",
    "df_test['FLAG_OWN_REALTY_encoded'] = label_encoder.fit_transform(df_test['FLAG_OWN_REALTY'])\n"
   ]
  },
  {
   "cell_type": "code",
   "execution_count": 26,
   "id": "ddaef36f",
   "metadata": {
    "execution": {
     "iopub.execute_input": "2024-04-17T06:43:15.201185Z",
     "iopub.status.busy": "2024-04-17T06:43:15.199562Z",
     "iopub.status.idle": "2024-04-17T06:43:15.233245Z",
     "shell.execute_reply": "2024-04-17T06:43:15.231461Z"
    },
    "papermill": {
     "duration": 0.056112,
     "end_time": "2024-04-17T06:43:15.236129",
     "exception": false,
     "start_time": "2024-04-17T06:43:15.180017",
     "status": "completed"
    },
    "tags": []
   },
   "outputs": [
    {
     "data": {
      "text/html": [
       "<div>\n",
       "<style scoped>\n",
       "    .dataframe tbody tr th:only-of-type {\n",
       "        vertical-align: middle;\n",
       "    }\n",
       "\n",
       "    .dataframe tbody tr th {\n",
       "        vertical-align: top;\n",
       "    }\n",
       "\n",
       "    .dataframe thead th {\n",
       "        text-align: right;\n",
       "    }\n",
       "</style>\n",
       "<table border=\"1\" class=\"dataframe\">\n",
       "  <thead>\n",
       "    <tr style=\"text-align: right;\">\n",
       "      <th></th>\n",
       "      <th>SK_ID_CURR</th>\n",
       "      <th>TARGET</th>\n",
       "      <th>CODE_GENDER</th>\n",
       "      <th>DAYS_BIRTH</th>\n",
       "      <th>CNT_CHILDREN</th>\n",
       "      <th>AMT_INCOME_TOTAL</th>\n",
       "      <th>AMT_CREDIT</th>\n",
       "      <th>AMT_ANNUITY</th>\n",
       "      <th>NAME_EDUCATION_TYPE</th>\n",
       "      <th>DAYS_EMPLOYED</th>\n",
       "      <th>...</th>\n",
       "      <th>PAYMENT_RATE</th>\n",
       "      <th>Annual_Income</th>\n",
       "      <th>Loan_Amount</th>\n",
       "      <th>Loan_Term</th>\n",
       "      <th>Employment_Years</th>\n",
       "      <th>Age</th>\n",
       "      <th>CODE_GENDER_encoded</th>\n",
       "      <th>NAME_EDUCATION_TYPE_encoded</th>\n",
       "      <th>FLAG_OWN_CAR_encoded</th>\n",
       "      <th>FLAG_OWN_REALTY_encoded</th>\n",
       "    </tr>\n",
       "  </thead>\n",
       "  <tbody>\n",
       "    <tr>\n",
       "      <th>0</th>\n",
       "      <td>100002.0</td>\n",
       "      <td>1</td>\n",
       "      <td>M</td>\n",
       "      <td>-9461</td>\n",
       "      <td>0</td>\n",
       "      <td>202500.0</td>\n",
       "      <td>406597.5</td>\n",
       "      <td>24700.5</td>\n",
       "      <td>Secondary / secondary special</td>\n",
       "      <td>-637.0</td>\n",
       "      <td>...</td>\n",
       "      <td>0.036147</td>\n",
       "      <td>202500</td>\n",
       "      <td>406597</td>\n",
       "      <td>16</td>\n",
       "      <td>1</td>\n",
       "      <td>25</td>\n",
       "      <td>1</td>\n",
       "      <td>4</td>\n",
       "      <td>0</td>\n",
       "      <td>1</td>\n",
       "    </tr>\n",
       "    <tr>\n",
       "      <th>1</th>\n",
       "      <td>100003.0</td>\n",
       "      <td>0</td>\n",
       "      <td>F</td>\n",
       "      <td>-16765</td>\n",
       "      <td>0</td>\n",
       "      <td>270000.0</td>\n",
       "      <td>1293502.5</td>\n",
       "      <td>35698.5</td>\n",
       "      <td>Higher education</td>\n",
       "      <td>-1188.0</td>\n",
       "      <td>...</td>\n",
       "      <td>0.077973</td>\n",
       "      <td>270000</td>\n",
       "      <td>1293502</td>\n",
       "      <td>36</td>\n",
       "      <td>3</td>\n",
       "      <td>45</td>\n",
       "      <td>0</td>\n",
       "      <td>1</td>\n",
       "      <td>0</td>\n",
       "      <td>0</td>\n",
       "    </tr>\n",
       "    <tr>\n",
       "      <th>2</th>\n",
       "      <td>100004.0</td>\n",
       "      <td>0</td>\n",
       "      <td>M</td>\n",
       "      <td>-19046</td>\n",
       "      <td>0</td>\n",
       "      <td>67500.0</td>\n",
       "      <td>135000.0</td>\n",
       "      <td>6750.0</td>\n",
       "      <td>Secondary / secondary special</td>\n",
       "      <td>-225.0</td>\n",
       "      <td>...</td>\n",
       "      <td>0.105202</td>\n",
       "      <td>67500</td>\n",
       "      <td>135000</td>\n",
       "      <td>20</td>\n",
       "      <td>0</td>\n",
       "      <td>52</td>\n",
       "      <td>1</td>\n",
       "      <td>4</td>\n",
       "      <td>1</td>\n",
       "      <td>1</td>\n",
       "    </tr>\n",
       "    <tr>\n",
       "      <th>3</th>\n",
       "      <td>100006.0</td>\n",
       "      <td>0</td>\n",
       "      <td>F</td>\n",
       "      <td>-19005</td>\n",
       "      <td>0</td>\n",
       "      <td>135000.0</td>\n",
       "      <td>312682.5</td>\n",
       "      <td>29686.5</td>\n",
       "      <td>Secondary / secondary special</td>\n",
       "      <td>-3039.0</td>\n",
       "      <td>...</td>\n",
       "      <td>0.031123</td>\n",
       "      <td>135000</td>\n",
       "      <td>312682</td>\n",
       "      <td>10</td>\n",
       "      <td>8</td>\n",
       "      <td>52</td>\n",
       "      <td>0</td>\n",
       "      <td>4</td>\n",
       "      <td>0</td>\n",
       "      <td>1</td>\n",
       "    </tr>\n",
       "    <tr>\n",
       "      <th>4</th>\n",
       "      <td>100007.0</td>\n",
       "      <td>0</td>\n",
       "      <td>M</td>\n",
       "      <td>-19932</td>\n",
       "      <td>0</td>\n",
       "      <td>121500.0</td>\n",
       "      <td>513000.0</td>\n",
       "      <td>21865.5</td>\n",
       "      <td>Secondary / secondary special</td>\n",
       "      <td>-3038.0</td>\n",
       "      <td>...</td>\n",
       "      <td>0.051266</td>\n",
       "      <td>121500</td>\n",
       "      <td>513000</td>\n",
       "      <td>23</td>\n",
       "      <td>8</td>\n",
       "      <td>54</td>\n",
       "      <td>1</td>\n",
       "      <td>4</td>\n",
       "      <td>0</td>\n",
       "      <td>1</td>\n",
       "    </tr>\n",
       "  </tbody>\n",
       "</table>\n",
       "<p>5 rows × 23 columns</p>\n",
       "</div>"
      ],
      "text/plain": [
       "   SK_ID_CURR  TARGET CODE_GENDER  DAYS_BIRTH  CNT_CHILDREN  AMT_INCOME_TOTAL  \\\n",
       "0    100002.0       1           M       -9461             0          202500.0   \n",
       "1    100003.0       0           F      -16765             0          270000.0   \n",
       "2    100004.0       0           M      -19046             0           67500.0   \n",
       "3    100006.0       0           F      -19005             0          135000.0   \n",
       "4    100007.0       0           M      -19932             0          121500.0   \n",
       "\n",
       "   AMT_CREDIT  AMT_ANNUITY            NAME_EDUCATION_TYPE  DAYS_EMPLOYED  ...  \\\n",
       "0    406597.5      24700.5  Secondary / secondary special         -637.0  ...   \n",
       "1   1293502.5      35698.5               Higher education        -1188.0  ...   \n",
       "2    135000.0       6750.0  Secondary / secondary special         -225.0  ...   \n",
       "3    312682.5      29686.5  Secondary / secondary special        -3039.0  ...   \n",
       "4    513000.0      21865.5  Secondary / secondary special        -3038.0  ...   \n",
       "\n",
       "  PAYMENT_RATE Annual_Income  Loan_Amount  Loan_Term  Employment_Years  Age  \\\n",
       "0     0.036147        202500       406597         16                 1   25   \n",
       "1     0.077973        270000      1293502         36                 3   45   \n",
       "2     0.105202         67500       135000         20                 0   52   \n",
       "3     0.031123        135000       312682         10                 8   52   \n",
       "4     0.051266        121500       513000         23                 8   54   \n",
       "\n",
       "   CODE_GENDER_encoded  NAME_EDUCATION_TYPE_encoded  FLAG_OWN_CAR_encoded  \\\n",
       "0                    1                            4                     0   \n",
       "1                    0                            1                     0   \n",
       "2                    1                            4                     1   \n",
       "3                    0                            4                     0   \n",
       "4                    1                            4                     0   \n",
       "\n",
       "   FLAG_OWN_REALTY_encoded  \n",
       "0                        1  \n",
       "1                        0  \n",
       "2                        1  \n",
       "3                        1  \n",
       "4                        1  \n",
       "\n",
       "[5 rows x 23 columns]"
      ]
     },
     "execution_count": 26,
     "metadata": {},
     "output_type": "execute_result"
    }
   ],
   "source": [
    "df_train.head()"
   ]
  },
  {
   "cell_type": "code",
   "execution_count": 27,
   "id": "58e80bdd",
   "metadata": {
    "execution": {
     "iopub.execute_input": "2024-04-17T06:43:15.274184Z",
     "iopub.status.busy": "2024-04-17T06:43:15.273716Z",
     "iopub.status.idle": "2024-04-17T06:43:15.305107Z",
     "shell.execute_reply": "2024-04-17T06:43:15.303256Z"
    },
    "papermill": {
     "duration": 0.054044,
     "end_time": "2024-04-17T06:43:15.308289",
     "exception": false,
     "start_time": "2024-04-17T06:43:15.254245",
     "status": "completed"
    },
    "tags": []
   },
   "outputs": [
    {
     "data": {
      "text/html": [
       "<div>\n",
       "<style scoped>\n",
       "    .dataframe tbody tr th:only-of-type {\n",
       "        vertical-align: middle;\n",
       "    }\n",
       "\n",
       "    .dataframe tbody tr th {\n",
       "        vertical-align: top;\n",
       "    }\n",
       "\n",
       "    .dataframe thead th {\n",
       "        text-align: right;\n",
       "    }\n",
       "</style>\n",
       "<table border=\"1\" class=\"dataframe\">\n",
       "  <thead>\n",
       "    <tr style=\"text-align: right;\">\n",
       "      <th></th>\n",
       "      <th>SK_ID_CURR</th>\n",
       "      <th>CODE_GENDER</th>\n",
       "      <th>DAYS_BIRTH</th>\n",
       "      <th>CNT_CHILDREN</th>\n",
       "      <th>AMT_INCOME_TOTAL</th>\n",
       "      <th>AMT_CREDIT</th>\n",
       "      <th>AMT_ANNUITY</th>\n",
       "      <th>NAME_EDUCATION_TYPE</th>\n",
       "      <th>DAYS_EMPLOYED</th>\n",
       "      <th>FLAG_OWN_CAR</th>\n",
       "      <th>...</th>\n",
       "      <th>PAYMENT_RATE</th>\n",
       "      <th>Annual_Income</th>\n",
       "      <th>Loan_Amount</th>\n",
       "      <th>Loan_Term</th>\n",
       "      <th>Employment_Years</th>\n",
       "      <th>Age</th>\n",
       "      <th>CODE_GENDER_encoded</th>\n",
       "      <th>NAME_EDUCATION_TYPE_encoded</th>\n",
       "      <th>FLAG_OWN_CAR_encoded</th>\n",
       "      <th>FLAG_OWN_REALTY_encoded</th>\n",
       "    </tr>\n",
       "  </thead>\n",
       "  <tbody>\n",
       "    <tr>\n",
       "      <th>0</th>\n",
       "      <td>100001.0</td>\n",
       "      <td>F</td>\n",
       "      <td>-19241</td>\n",
       "      <td>0</td>\n",
       "      <td>135000.0</td>\n",
       "      <td>568800.0</td>\n",
       "      <td>20560.5</td>\n",
       "      <td>Higher education</td>\n",
       "      <td>-2329.0</td>\n",
       "      <td>N</td>\n",
       "      <td>...</td>\n",
       "      <td>0.036147</td>\n",
       "      <td>135000</td>\n",
       "      <td>568800</td>\n",
       "      <td>27</td>\n",
       "      <td>6</td>\n",
       "      <td>52</td>\n",
       "      <td>0</td>\n",
       "      <td>1</td>\n",
       "      <td>0</td>\n",
       "      <td>1</td>\n",
       "    </tr>\n",
       "    <tr>\n",
       "      <th>1</th>\n",
       "      <td>100005.0</td>\n",
       "      <td>M</td>\n",
       "      <td>-18064</td>\n",
       "      <td>0</td>\n",
       "      <td>99000.0</td>\n",
       "      <td>222768.0</td>\n",
       "      <td>17370.0</td>\n",
       "      <td>Secondary / secondary special</td>\n",
       "      <td>-4469.0</td>\n",
       "      <td>N</td>\n",
       "      <td>...</td>\n",
       "      <td>0.077973</td>\n",
       "      <td>99000</td>\n",
       "      <td>222768</td>\n",
       "      <td>12</td>\n",
       "      <td>12</td>\n",
       "      <td>49</td>\n",
       "      <td>1</td>\n",
       "      <td>4</td>\n",
       "      <td>0</td>\n",
       "      <td>1</td>\n",
       "    </tr>\n",
       "    <tr>\n",
       "      <th>2</th>\n",
       "      <td>100013.0</td>\n",
       "      <td>M</td>\n",
       "      <td>-20038</td>\n",
       "      <td>0</td>\n",
       "      <td>202500.0</td>\n",
       "      <td>663264.0</td>\n",
       "      <td>69777.0</td>\n",
       "      <td>Higher education</td>\n",
       "      <td>-4458.0</td>\n",
       "      <td>Y</td>\n",
       "      <td>...</td>\n",
       "      <td>0.105202</td>\n",
       "      <td>202500</td>\n",
       "      <td>663264</td>\n",
       "      <td>9</td>\n",
       "      <td>12</td>\n",
       "      <td>54</td>\n",
       "      <td>1</td>\n",
       "      <td>1</td>\n",
       "      <td>1</td>\n",
       "      <td>1</td>\n",
       "    </tr>\n",
       "    <tr>\n",
       "      <th>3</th>\n",
       "      <td>100028.0</td>\n",
       "      <td>F</td>\n",
       "      <td>-13976</td>\n",
       "      <td>2</td>\n",
       "      <td>315000.0</td>\n",
       "      <td>1575000.0</td>\n",
       "      <td>49018.5</td>\n",
       "      <td>Secondary / secondary special</td>\n",
       "      <td>-1866.0</td>\n",
       "      <td>N</td>\n",
       "      <td>...</td>\n",
       "      <td>0.031123</td>\n",
       "      <td>315000</td>\n",
       "      <td>1575000</td>\n",
       "      <td>32</td>\n",
       "      <td>5</td>\n",
       "      <td>38</td>\n",
       "      <td>0</td>\n",
       "      <td>4</td>\n",
       "      <td>0</td>\n",
       "      <td>1</td>\n",
       "    </tr>\n",
       "    <tr>\n",
       "      <th>4</th>\n",
       "      <td>100038.0</td>\n",
       "      <td>M</td>\n",
       "      <td>-13040</td>\n",
       "      <td>1</td>\n",
       "      <td>180000.0</td>\n",
       "      <td>625500.0</td>\n",
       "      <td>32067.0</td>\n",
       "      <td>Secondary / secondary special</td>\n",
       "      <td>-2191.0</td>\n",
       "      <td>Y</td>\n",
       "      <td>...</td>\n",
       "      <td>0.051266</td>\n",
       "      <td>180000</td>\n",
       "      <td>625500</td>\n",
       "      <td>19</td>\n",
       "      <td>6</td>\n",
       "      <td>35</td>\n",
       "      <td>1</td>\n",
       "      <td>4</td>\n",
       "      <td>1</td>\n",
       "      <td>0</td>\n",
       "    </tr>\n",
       "  </tbody>\n",
       "</table>\n",
       "<p>5 rows × 22 columns</p>\n",
       "</div>"
      ],
      "text/plain": [
       "   SK_ID_CURR CODE_GENDER  DAYS_BIRTH  CNT_CHILDREN  AMT_INCOME_TOTAL  \\\n",
       "0    100001.0           F      -19241             0          135000.0   \n",
       "1    100005.0           M      -18064             0           99000.0   \n",
       "2    100013.0           M      -20038             0          202500.0   \n",
       "3    100028.0           F      -13976             2          315000.0   \n",
       "4    100038.0           M      -13040             1          180000.0   \n",
       "\n",
       "   AMT_CREDIT  AMT_ANNUITY            NAME_EDUCATION_TYPE  DAYS_EMPLOYED  \\\n",
       "0    568800.0      20560.5               Higher education        -2329.0   \n",
       "1    222768.0      17370.0  Secondary / secondary special        -4469.0   \n",
       "2    663264.0      69777.0               Higher education        -4458.0   \n",
       "3   1575000.0      49018.5  Secondary / secondary special        -1866.0   \n",
       "4    625500.0      32067.0  Secondary / secondary special        -2191.0   \n",
       "\n",
       "  FLAG_OWN_CAR  ... PAYMENT_RATE  Annual_Income  Loan_Amount  Loan_Term  \\\n",
       "0            N  ...     0.036147         135000       568800         27   \n",
       "1            N  ...     0.077973          99000       222768         12   \n",
       "2            Y  ...     0.105202         202500       663264          9   \n",
       "3            N  ...     0.031123         315000      1575000         32   \n",
       "4            Y  ...     0.051266         180000       625500         19   \n",
       "\n",
       "   Employment_Years  Age  CODE_GENDER_encoded  NAME_EDUCATION_TYPE_encoded  \\\n",
       "0                 6   52                    0                            1   \n",
       "1                12   49                    1                            4   \n",
       "2                12   54                    1                            1   \n",
       "3                 5   38                    0                            4   \n",
       "4                 6   35                    1                            4   \n",
       "\n",
       "   FLAG_OWN_CAR_encoded  FLAG_OWN_REALTY_encoded  \n",
       "0                     0                        1  \n",
       "1                     0                        1  \n",
       "2                     1                        1  \n",
       "3                     0                        1  \n",
       "4                     1                        0  \n",
       "\n",
       "[5 rows x 22 columns]"
      ]
     },
     "execution_count": 27,
     "metadata": {},
     "output_type": "execute_result"
    }
   ],
   "source": [
    "df_test.head()"
   ]
  },
  {
   "cell_type": "code",
   "execution_count": 28,
   "id": "1c73d139",
   "metadata": {
    "execution": {
     "iopub.execute_input": "2024-04-17T06:43:15.348641Z",
     "iopub.status.busy": "2024-04-17T06:43:15.348172Z",
     "iopub.status.idle": "2024-04-17T06:43:15.375204Z",
     "shell.execute_reply": "2024-04-17T06:43:15.373504Z"
    },
    "papermill": {
     "duration": 0.050512,
     "end_time": "2024-04-17T06:43:15.378200",
     "exception": false,
     "start_time": "2024-04-17T06:43:15.327688",
     "status": "completed"
    },
    "tags": []
   },
   "outputs": [],
   "source": [
    "# Fill NaN values with the mean of each column in df_train\n",
    "df_train['Annual_Income'] = df_train['Annual_Income'].fillna(df_train['Annual_Income'].mean())\n",
    "df_train['Loan_Amount'] = df_train['Loan_Amount'].fillna(df_train['Loan_Amount'].mean())\n",
    "df_train['Loan_Term'] = df_train['Loan_Term'].fillna(df_train['Loan_Term'].mean())\n",
    "df_train['Employment_Years'] = df_train['Employment_Years'].fillna(df_train['Employment_Years'].mean())\n",
    "df_train['Age'] = df_train['Age'].fillna(df_train['Age'].mean())\n",
    "# Calculate the mean of 'CNT_CHILDREN', round it, and fill NaN values with it\n",
    "mean_children = int(round(df_train['CNT_CHILDREN'].mean()))\n",
    "df_train['CNT_CHILDREN'] = df_train['CNT_CHILDREN'].fillna(mean_children).astype(int)"
   ]
  },
  {
   "cell_type": "code",
   "execution_count": 29,
   "id": "aec7107d",
   "metadata": {
    "execution": {
     "iopub.execute_input": "2024-04-17T06:43:15.417728Z",
     "iopub.status.busy": "2024-04-17T06:43:15.417231Z",
     "iopub.status.idle": "2024-04-17T06:43:15.429860Z",
     "shell.execute_reply": "2024-04-17T06:43:15.428475Z"
    },
    "papermill": {
     "duration": 0.035598,
     "end_time": "2024-04-17T06:43:15.432726",
     "exception": false,
     "start_time": "2024-04-17T06:43:15.397128",
     "status": "completed"
    },
    "tags": []
   },
   "outputs": [],
   "source": [
    "# Fill NaN values with the mean of each column in df_test\n",
    "df_test['Annual_Income'] = df_test['Annual_Income'].fillna(df_test['Annual_Income'].mean())\n",
    "df_test['Loan_Amount'] = df_test['Loan_Amount'].fillna(df_test['Loan_Amount'].mean())\n",
    "df_test['Loan_Term'] = df_test['Loan_Term'].fillna(df_test['Loan_Term'].mean())\n",
    "df_test['Employment_Years'] = df_test['Employment_Years'].fillna(df_test['Employment_Years'].mean())\n",
    "df_test['Age'] = df_test['Age'].fillna(df_test['Age'].mean())\n",
    "# Calculate the mean of 'CNT_CHILDREN', round it, and fill NaN values with it\n",
    "mean_children = int(round(df_test['CNT_CHILDREN'].mean()))\n",
    "df_test['CNT_CHILDREN'] = df_test['CNT_CHILDREN'].fillna(mean_children).astype(int)"
   ]
  },
  {
   "cell_type": "code",
   "execution_count": 30,
   "id": "bcb78dda",
   "metadata": {
    "execution": {
     "iopub.execute_input": "2024-04-17T06:43:15.473161Z",
     "iopub.status.busy": "2024-04-17T06:43:15.472718Z",
     "iopub.status.idle": "2024-04-17T06:43:15.500540Z",
     "shell.execute_reply": "2024-04-17T06:43:15.499000Z"
    },
    "papermill": {
     "duration": 0.052185,
     "end_time": "2024-04-17T06:43:15.504097",
     "exception": false,
     "start_time": "2024-04-17T06:43:15.451912",
     "status": "completed"
    },
    "tags": []
   },
   "outputs": [],
   "source": [
    "# Fill NaN values with the mode of each categorical column in df_train\n",
    "df_train['CODE_GENDER_encoded'] = df_train['CODE_GENDER_encoded'].fillna(df_train['CODE_GENDER_encoded'].mode()[0])\n",
    "df_train['NAME_EDUCATION_TYPE_encoded'] = df_train['NAME_EDUCATION_TYPE_encoded'].fillna(df_train['NAME_EDUCATION_TYPE_encoded'].mode()[0])\n",
    "df_train['FLAG_OWN_CAR_encoded'] = df_train['FLAG_OWN_CAR_encoded'].fillna(df_train['FLAG_OWN_CAR_encoded'].mode()[0])\n",
    "df_train['FLAG_OWN_REALTY_encoded'] = df_train['FLAG_OWN_REALTY_encoded'].fillna(df_train['FLAG_OWN_REALTY_encoded'].mode()[0])"
   ]
  },
  {
   "cell_type": "code",
   "execution_count": 31,
   "id": "ae0e56db",
   "metadata": {
    "execution": {
     "iopub.execute_input": "2024-04-17T06:43:15.543956Z",
     "iopub.status.busy": "2024-04-17T06:43:15.543559Z",
     "iopub.status.idle": "2024-04-17T06:43:15.556619Z",
     "shell.execute_reply": "2024-04-17T06:43:15.555320Z"
    },
    "papermill": {
     "duration": 0.037309,
     "end_time": "2024-04-17T06:43:15.559984",
     "exception": false,
     "start_time": "2024-04-17T06:43:15.522675",
     "status": "completed"
    },
    "tags": []
   },
   "outputs": [],
   "source": [
    "# Fill NaN values with the mode of each column in df_test\n",
    "df_test['CODE_GENDER_encoded'] = df_test['CODE_GENDER_encoded'].fillna(df_test['CODE_GENDER_encoded'].mode()[0])\n",
    "df_test['NAME_EDUCATION_TYPE_encoded'] = df_test['NAME_EDUCATION_TYPE_encoded'].fillna(df_test['NAME_EDUCATION_TYPE_encoded'].mode()[0])\n",
    "df_test['FLAG_OWN_CAR_encoded'] = df_test['FLAG_OWN_CAR_encoded'].fillna(df_test['FLAG_OWN_CAR_encoded'].mode()[0])\n",
    "df_test['FLAG_OWN_REALTY_encoded'] = df_test['FLAG_OWN_REALTY_encoded'].fillna(df_test['FLAG_OWN_REALTY_encoded'].mode()[0])"
   ]
  },
  {
   "cell_type": "code",
   "execution_count": 32,
   "id": "464f261c",
   "metadata": {
    "execution": {
     "iopub.execute_input": "2024-04-17T06:43:15.598899Z",
     "iopub.status.busy": "2024-04-17T06:43:15.598440Z",
     "iopub.status.idle": "2024-04-17T06:43:15.605841Z",
     "shell.execute_reply": "2024-04-17T06:43:15.604554Z"
    },
    "papermill": {
     "duration": 0.030001,
     "end_time": "2024-04-17T06:43:15.608475",
     "exception": false,
     "start_time": "2024-04-17T06:43:15.578474",
     "status": "completed"
    },
    "tags": []
   },
   "outputs": [
    {
     "data": {
      "text/plain": [
       "(307511, 23)"
      ]
     },
     "execution_count": 32,
     "metadata": {},
     "output_type": "execute_result"
    }
   ],
   "source": [
    "df_train.shape"
   ]
  },
  {
   "cell_type": "code",
   "execution_count": 33,
   "id": "f46d0e07",
   "metadata": {
    "execution": {
     "iopub.execute_input": "2024-04-17T06:43:15.647812Z",
     "iopub.status.busy": "2024-04-17T06:43:15.647319Z",
     "iopub.status.idle": "2024-04-17T06:43:15.656238Z",
     "shell.execute_reply": "2024-04-17T06:43:15.654802Z"
    },
    "papermill": {
     "duration": 0.031781,
     "end_time": "2024-04-17T06:43:15.658930",
     "exception": false,
     "start_time": "2024-04-17T06:43:15.627149",
     "status": "completed"
    },
    "tags": []
   },
   "outputs": [
    {
     "data": {
      "text/plain": [
       "(48744, 22)"
      ]
     },
     "execution_count": 33,
     "metadata": {},
     "output_type": "execute_result"
    }
   ],
   "source": [
    "df_test.shape"
   ]
  },
  {
   "cell_type": "code",
   "execution_count": 34,
   "id": "117f99b4",
   "metadata": {
    "execution": {
     "iopub.execute_input": "2024-04-17T06:43:15.697484Z",
     "iopub.status.busy": "2024-04-17T06:43:15.697098Z",
     "iopub.status.idle": "2024-04-17T06:43:53.183719Z",
     "shell.execute_reply": "2024-04-17T06:43:53.182092Z"
    },
    "papermill": {
     "duration": 37.524876,
     "end_time": "2024-04-17T06:43:53.202012",
     "exception": false,
     "start_time": "2024-04-17T06:43:15.677136",
     "status": "completed"
    },
    "tags": []
   },
   "outputs": [
    {
     "name": "stdout",
     "output_type": "stream",
     "text": [
      "[LightGBM] [Info] Number of positive: 19876, number of negative: 226132\n",
      "[LightGBM] [Info] Auto-choosing row-wise multi-threading, the overhead of testing was 0.031019 seconds.\n",
      "You can set `force_row_wise=true` to remove the overhead.\n",
      "And if memory is not enough, you can set `force_col_wise=true`.\n",
      "[LightGBM] [Info] Total Bins 1091\n",
      "[LightGBM] [Info] Number of data points in the train set: 246008, number of used features: 12\n",
      "[LightGBM] [Info] [binary:BoostFromScore]: pavg=0.080794 -> initscore=-2.431606\n",
      "[LightGBM] [Info] Start training from score -2.431606\n",
      "Validation Accuracy: 0.9190283400809717\n"
     ]
    }
   ],
   "source": [
    "import lightgbm as lgb\n",
    "from sklearn.model_selection import train_test_split\n",
    "from sklearn.metrics import accuracy_score\n",
    "import pandas as pd\n",
    "\n",
    "# Define features for df_train\n",
    "features = ['CNT_CHILDREN','Annual_Income', 'Loan_Amount', 'Loan_Term', 'Employment_Years', 'Age',\n",
    "            'CODE_GENDER_encoded', 'NAME_EDUCATION_TYPE_encoded', 'FLAG_OWN_CAR_encoded', 'FLAG_OWN_REALTY_encoded','NEW_EXT_SOURCE', 'PAYMENT_RATE']\n",
    "\n",
    "\n",
    "# Splitting df_train into training and validation sets\n",
    "X = df_train[features]\n",
    "y = df_train['TARGET']\n",
    "X_train, X_val, y_train, y_val = train_test_split(X, y, test_size=0.2, random_state=42)\n",
    "\n",
    "# Create the LightGBM data containers\n",
    "train_data = lgb.Dataset(X_train, label=y_train)\n",
    "val_data = lgb.Dataset(X_val, label=y_val)\n",
    "\n",
    "# Set the model parameters with added regularization and bagging\n",
    "params = {\n",
    "    'objective': 'binary',\n",
    "    'metric': 'binary_error',\n",
    "    'num_leaves': 31,\n",
    "    'learning_rate': 0.01,\n",
    "    'feature_fraction': 0.9,\n",
    "    'min_data_in_leaf': 20,   # higher values can prevent overfitting\n",
    "    'lambda_l1': 0.5,         # L1 regularization\n",
    "    'bagging_fraction': 0.8,  # enables bagging (subsampling)\n",
    "    'bagging_freq': 5         # perform bagging every 5 iterations\n",
    "}\n",
    "\n",
    "# Train the model with early stopping\n",
    "num_round = 1000\n",
    "bst = lgb.train(params, train_data, num_boost_round=num_round, valid_sets=[val_data])\n",
    "\n",
    "# Evaluate the model on the validation set\n",
    "y_val_pred = bst.predict(X_val, num_iteration=bst.best_iteration)\n",
    "y_val_pred_binary = [1 if pred > 0.4 else 0 for pred in y_val_pred]  # Adjusting threshold as needed\n",
    "accuracy_lgbm = accuracy_score(y_val, y_val_pred_binary)\n",
    "print(\"Validation Accuracy:\", accuracy_lgbm)\n"
   ]
  },
  {
   "cell_type": "code",
   "execution_count": 35,
   "id": "20107445",
   "metadata": {
    "execution": {
     "iopub.execute_input": "2024-04-17T06:43:53.245309Z",
     "iopub.status.busy": "2024-04-17T06:43:53.244519Z",
     "iopub.status.idle": "2024-04-17T06:43:53.674094Z",
     "shell.execute_reply": "2024-04-17T06:43:53.672383Z"
    },
    "papermill": {
     "duration": 0.456129,
     "end_time": "2024-04-17T06:43:53.678392",
     "exception": false,
     "start_time": "2024-04-17T06:43:53.222263",
     "status": "completed"
    },
    "tags": []
   },
   "outputs": [
    {
     "data": {
      "image/png": "[encoded data removed]",
      "text/plain": [
       "<Figure size 640x480 with 1 Axes>"
      ]
     },
     "metadata": {},
     "output_type": "display_data"
    }
   ],
   "source": [
    "import matplotlib.pyplot as plt\n",
    "\n",
    "lgb.plot_importance(bst, max_num_features=10)\n",
    "plt.show()\n"
   ]
  },
  {
   "cell_type": "code",
   "execution_count": 36,
   "id": "7c71e8ac",
   "metadata": {
    "execution": {
     "iopub.execute_input": "2024-04-17T06:43:53.725833Z",
     "iopub.status.busy": "2024-04-17T06:43:53.725334Z",
     "iopub.status.idle": "2024-04-17T06:43:53.949115Z",
     "shell.execute_reply": "2024-04-17T06:43:53.947372Z"
    },
    "papermill": {
     "duration": 0.250958,
     "end_time": "2024-04-17T06:43:53.952202",
     "exception": false,
     "start_time": "2024-04-17T06:43:53.701244",
     "status": "completed"
    },
    "tags": []
   },
   "outputs": [
    {
     "name": "stdout",
     "output_type": "stream",
     "text": [
      "ROC-AUC: 0.7354040137506681, Precision: 0.4134078212290503, Recall: 0.014952515659729238, F1-Score: 0.028861154446177848\n"
     ]
    }
   ],
   "source": [
    "from sklearn.metrics import roc_auc_score, f1_score, precision_score, recall_score\n",
    "\n",
    "# Calculate additional metrics\n",
    "roc_auc = roc_auc_score(y_val, y_val_pred)\n",
    "precision = precision_score(y_val, y_val_pred_binary)\n",
    "recall = recall_score(y_val, y_val_pred_binary)\n",
    "f1 = f1_score(y_val, y_val_pred_binary)\n",
    "\n",
    "print(f\"ROC-AUC: {roc_auc}, Precision: {precision}, Recall: {recall}, F1-Score: {f1}\")\n"
   ]
  },
  {
   "cell_type": "code",
   "execution_count": 37,
   "id": "653f6d9f",
   "metadata": {
    "execution": {
     "iopub.execute_input": "2024-04-17T06:43:53.995394Z",
     "iopub.status.busy": "2024-04-17T06:43:53.994923Z",
     "iopub.status.idle": "2024-04-17T06:43:54.004313Z",
     "shell.execute_reply": "2024-04-17T06:43:54.002764Z"
    },
    "papermill": {
     "duration": 0.034185,
     "end_time": "2024-04-17T06:43:54.007097",
     "exception": false,
     "start_time": "2024-04-17T06:43:53.972912",
     "status": "completed"
    },
    "tags": []
   },
   "outputs": [],
   "source": [
    "import pandas as pd\n",
    "import numpy as np\n",
    "import lightgbm as lgb\n",
    "\n",
    "def predict_single_instance(model, feature_values):\n",
    "    \"\"\"\n",
    "    Predicts the output for a single data instance using the LightGBM model.\n",
    "    \n",
    "    Parameters:\n",
    "        model (lgb.Booster): The trained LightGBM model.\n",
    "        feature_values (dict): A dictionary containing the feature values for a single instance.\n",
    "        \n",
    "    Returns:\n",
    "        float: The predicted probability (since binary classification might benefit from the probability \n",
    "        output for certain applications).\n",
    "    \"\"\"\n",
    "    # Ensure the feature values are provided in the correct order\n",
    "    expected_features = ['CNT_CHILDREN', 'Annual_Income', 'Loan_Amount', 'Loan_Term', 'Employment_Years', \n",
    "                         'Age','CODE_GENDER_encoded', 'NAME_EDUCATION_TYPE_encoded', 'FLAG_OWN_CAR_encoded', \n",
    "                         'FLAG_OWN_REALTY_encoded', 'NEW_EXT_SOURCE', 'PAYMENT_RATE']\n",
    "\n",
    "    # Create a DataFrame for the single instance\n",
    "    input_df = pd.DataFrame([feature_values], columns=expected_features)\n",
    "    \n",
    "    # Predict using the model\n",
    "    pred_prob = model.predict(input_df, num_iteration=model.best_iteration)\n",
    "    \n",
    "    return pred_prob[0]\n"
   ]
  },
  {
   "cell_type": "code",
   "execution_count": 38,
   "id": "9e2d035c",
   "metadata": {
    "execution": {
     "iopub.execute_input": "2024-04-17T06:43:54.050615Z",
     "iopub.status.busy": "2024-04-17T06:43:54.050161Z",
     "iopub.status.idle": "2024-04-17T06:43:54.060407Z",
     "shell.execute_reply": "2024-04-17T06:43:54.059056Z"
    },
    "papermill": {
     "duration": 0.035123,
     "end_time": "2024-04-17T06:43:54.063312",
     "exception": false,
     "start_time": "2024-04-17T06:43:54.028189",
     "status": "completed"
    },
    "tags": []
   },
   "outputs": [
    {
     "name": "stdout",
     "output_type": "stream",
     "text": [
      "Predicted Probability of Default: 0.09537779881261176\n"
     ]
    }
   ],
   "source": [
    "\n",
    "# Example of how to use the function\n",
    "features_pred = {\n",
    "    'CNT_CHILDREN': 2,\n",
    "    'Annual_Income': 50000,\n",
    "    'Loan_Amount': 200000,\n",
    "    'Loan_Term': 30,\n",
    "    'Employment_Years': 5,\n",
    "    'Age': 35,\n",
    "    'CODE_GENDER_encoded': 1,\n",
    "    'NAME_EDUCATION_TYPE_encoded': 1,\n",
    "    'FLAG_OWN_CAR_encoded': 0,\n",
    "    'FLAG_OWN_REALTY_encoded': 1,\n",
    "    'NEW_EXT_SOURCE': 0.35,\n",
    "    'PAYMENT_RATE': 0.03\n",
    "}\n",
    "\n",
    "# Assuming `bst` is your trained LightGBM model loaded elsewhere in your code\n",
    "predicted_probability = predict_single_instance(bst, features_pred)\n",
    "print(\"Predicted Probability of Default:\", predicted_probability)"
   ]
  },
  {
   "cell_type": "code",
   "execution_count": 39,
   "id": "51a187dc",
   "metadata": {
    "execution": {
     "iopub.execute_input": "2024-04-17T06:43:54.105929Z",
     "iopub.status.busy": "2024-04-17T06:43:54.105432Z",
     "iopub.status.idle": "2024-04-17T06:43:54.114827Z",
     "shell.execute_reply": "2024-04-17T06:43:54.113367Z"
    },
    "papermill": {
     "duration": 0.034414,
     "end_time": "2024-04-17T06:43:54.117329",
     "exception": false,
     "start_time": "2024-04-17T06:43:54.082915",
     "status": "completed"
    },
    "tags": []
   },
   "outputs": [],
   "source": [
    "import pandas as pd\n",
    "import numpy as np\n",
    "import lightgbm as lgb\n",
    "\n",
    "def predict_single_instance(model, feature_values):\n",
    "    \"\"\"\n",
    "    Predicts the risk category for a single data instance using the LightGBM model based on the predicted probability.\n",
    "    \n",
    "    Parameters:\n",
    "        model (lgb.Booster): The trained LightGBM model.\n",
    "        feature_values (dict): A dictionary containing the feature values for a single instance.\n",
    "        \n",
    "    Returns:\n",
    "        str: \"No Risk\" if the predicted probability is less than 0.2, otherwise \"Risk\".\n",
    "    \"\"\"\n",
    "    # Ensure the feature values are provided in the correct order\n",
    "    expected_features = ['CNT_CHILDREN', 'Annual_Income', 'Loan_Amount', 'Loan_Term', 'Employment_Years', \n",
    "                         'Age','CODE_GENDER_encoded', 'NAME_EDUCATION_TYPE_encoded', 'FLAG_OWN_CAR_encoded', \n",
    "                         'FLAG_OWN_REALTY_encoded', 'NEW_EXT_SOURCE', 'PAYMENT_RATE']\n",
    "\n",
    "    # Create a DataFrame for the single instance\n",
    "    input_df = pd.DataFrame([feature_values], columns=expected_features)\n",
    "    \n",
    "    # Predict using the model\n",
    "    pred_prob = model.predict(input_df, num_iteration=model.best_iteration)\n",
    "    \n",
    "    # Determine risk category based on the predicted probability\n",
    "    risk_category = \"Low Risk\" if pred_prob[0] < 0.2 else \"High Risk\"\n",
    "    return risk_category"
   ]
  },
  {
   "cell_type": "code",
   "execution_count": 40,
   "id": "05c630ab",
   "metadata": {
    "execution": {
     "iopub.execute_input": "2024-04-17T06:43:54.159087Z",
     "iopub.status.busy": "2024-04-17T06:43:54.158525Z",
     "iopub.status.idle": "2024-04-17T06:43:54.172646Z",
     "shell.execute_reply": "2024-04-17T06:43:54.170055Z"
    },
    "papermill": {
     "duration": 0.039041,
     "end_time": "2024-04-17T06:43:54.176025",
     "exception": false,
     "start_time": "2024-04-17T06:43:54.136984",
     "status": "completed"
    },
    "tags": []
   },
   "outputs": [
    {
     "name": "stdout",
     "output_type": "stream",
     "text": [
      "Risk Status: Low Risk\n"
     ]
    }
   ],
   "source": [
    "# Example of how to use the function\n",
    "features_pred = {\n",
    "    'CNT_CHILDREN': 2,\n",
    "    'Annual_Income': 50000,\n",
    "    'Loan_Amount': 200000,\n",
    "    'Loan_Term': 30,\n",
    "    'Employment_Years': 5,\n",
    "    'Age': 35,\n",
    "    'CODE_GENDER_encoded': 1,\n",
    "    'NAME_EDUCATION_TYPE_encoded': 1,\n",
    "    'FLAG_OWN_CAR_encoded': 0,\n",
    "    'FLAG_OWN_REALTY_encoded': 1,\n",
    "    'NEW_EXT_SOURCE': 0.35,\n",
    "    'PAYMENT_RATE': 0.03\n",
    "}\n",
    "\n",
    "# Assuming `bst` is your trained LightGBM model loaded elsewhere in your code\n",
    "risk_status = predict_single_instance(bst, features_pred)\n",
    "print(\"Risk Status:\", risk_status)"
   ]
  },
  {
   "cell_type": "code",
   "execution_count": 41,
   "id": "9a48d8fa",
   "metadata": {
    "execution": {
     "iopub.execute_input": "2024-04-17T06:43:54.228042Z",
     "iopub.status.busy": "2024-04-17T06:43:54.227353Z",
     "iopub.status.idle": "2024-04-17T06:43:54.239227Z",
     "shell.execute_reply": "2024-04-17T06:43:54.237835Z"
    },
    "papermill": {
     "duration": 0.045636,
     "end_time": "2024-04-17T06:43:54.244189",
     "exception": false,
     "start_time": "2024-04-17T06:43:54.198553",
     "status": "completed"
    },
    "tags": []
   },
   "outputs": [],
   "source": [
    "# Convert SK_ID_CURR from float to integer \n",
    "df_train['SK_ID_CURR'] = df_train['SK_ID_CURR'].astype(int)\n",
    "df_test['SK_ID_CURR'] = df_test['SK_ID_CURR'].astype(int)"
   ]
  },
  {
   "cell_type": "code",
   "execution_count": 42,
   "id": "a20fb457",
   "metadata": {
    "execution": {
     "iopub.execute_input": "2024-04-17T06:43:54.293019Z",
     "iopub.status.busy": "2024-04-17T06:43:54.291465Z",
     "iopub.status.idle": "2024-04-17T06:43:55.723107Z",
     "shell.execute_reply": "2024-04-17T06:43:55.721581Z"
    },
    "papermill": {
     "duration": 1.456436,
     "end_time": "2024-04-17T06:43:55.725879",
     "exception": false,
     "start_time": "2024-04-17T06:43:54.269443",
     "status": "completed"
    },
    "tags": []
   },
   "outputs": [
    {
     "name": "stdout",
     "output_type": "stream",
     "text": [
      "   SK_ID_CURR    TARGET\n",
      "0      100001  0.026704\n",
      "1      100005  0.141212\n",
      "2      100013  0.024236\n",
      "3      100028  0.037169\n",
      "4      100038  0.192019\n"
     ]
    }
   ],
   "source": [
    "\n",
    "# Using the model to predict on df_test\n",
    "X_test = df_test[features]\n",
    "y_test_pred = bst.predict(X_test, num_iteration=bst.best_iteration)\n",
    "\n",
    "# Create the submission DataFrame\n",
    "submission = pd.DataFrame({\n",
    "    'SK_ID_CURR': df_test['SK_ID_CURR'],  # Assuming df_test includes a column 'SK_ID_CURR'\n",
    "    'TARGET': y_test_pred\n",
    "})\n",
    "\n",
    "# Display the first few rows to verify\n",
    "print(submission.head())\n"
   ]
  },
  {
   "cell_type": "code",
   "execution_count": 43,
   "id": "526e3390",
   "metadata": {
    "execution": {
     "iopub.execute_input": "2024-04-17T06:43:55.769903Z",
     "iopub.status.busy": "2024-04-17T06:43:55.768587Z",
     "iopub.status.idle": "2024-04-17T06:43:55.776871Z",
     "shell.execute_reply": "2024-04-17T06:43:55.775659Z"
    },
    "papermill": {
     "duration": 0.032939,
     "end_time": "2024-04-17T06:43:55.779351",
     "exception": false,
     "start_time": "2024-04-17T06:43:55.746412",
     "status": "completed"
    },
    "tags": []
   },
   "outputs": [
    {
     "data": {
      "text/plain": [
       "(48744, 2)"
      ]
     },
     "execution_count": 43,
     "metadata": {},
     "output_type": "execute_result"
    }
   ],
   "source": [
    "submission.shape"
   ]
  },
  {
   "cell_type": "code",
   "execution_count": 44,
   "id": "1867e5cb",
   "metadata": {
    "execution": {
     "iopub.execute_input": "2024-04-17T06:43:55.822850Z",
     "iopub.status.busy": "2024-04-17T06:43:55.822018Z",
     "iopub.status.idle": "2024-04-17T06:43:55.999755Z",
     "shell.execute_reply": "2024-04-17T06:43:55.998448Z"
    },
    "papermill": {
     "duration": 0.203165,
     "end_time": "2024-04-17T06:43:56.002794",
     "exception": false,
     "start_time": "2024-04-17T06:43:55.799629",
     "status": "completed"
    },
    "tags": []
   },
   "outputs": [
    {
     "name": "stdout",
     "output_type": "stream",
     "text": [
      "Your submission was successfully saved!\n"
     ]
    }
   ],
   "source": [
    "# Save the submission to a CSV file\n",
    "submission.to_csv('submission.csv', index=False)\n",
    "print(\"Your submission was successfully saved!\")"
   ]
  },
  {
   "cell_type": "code",
   "execution_count": 45,
   "id": "116e7b08",
   "metadata": {
    "execution": {
     "iopub.execute_input": "2024-04-17T06:43:56.047000Z",
     "iopub.status.busy": "2024-04-17T06:43:56.046097Z",
     "iopub.status.idle": "2024-04-17T06:43:56.094365Z",
     "shell.execute_reply": "2024-04-17T06:43:56.092819Z"
    },
    "papermill": {
     "duration": 0.074237,
     "end_time": "2024-04-17T06:43:56.097174",
     "exception": false,
     "start_time": "2024-04-17T06:43:56.022937",
     "status": "completed"
    },
    "tags": []
   },
   "outputs": [
    {
     "data": {
      "text/plain": [
       "<lightgbm.basic.Booster at 0x7a2ccfcef730>"
      ]
     },
     "execution_count": 45,
     "metadata": {},
     "output_type": "execute_result"
    }
   ],
   "source": [
    "bst.save_model('model.txt')"
   ]
  },
  {
   "cell_type": "code",
   "execution_count": 46,
   "id": "6567e3b7",
   "metadata": {
    "execution": {
     "iopub.execute_input": "2024-04-17T06:43:56.139969Z",
     "iopub.status.busy": "2024-04-17T06:43:56.139013Z",
     "iopub.status.idle": "2024-04-17T06:43:56.167952Z",
     "shell.execute_reply": "2024-04-17T06:43:56.166841Z"
    },
    "papermill": {
     "duration": 0.053643,
     "end_time": "2024-04-17T06:43:56.170775",
     "exception": false,
     "start_time": "2024-04-17T06:43:56.117132",
     "status": "completed"
    },
    "tags": []
   },
   "outputs": [],
   "source": [
    "model = lgb.Booster(model_file='model.txt')"
   ]
  }
 ],
 "metadata": {
  "kaggle": {
   "accelerator": "none",
   "dataSources": [
    {
     "databundleVersionId": 860599,
     "sourceId": 9120,
     "sourceType": "competition"
    }
   ],
   "dockerImageVersionId": 30684,
   "isGpuEnabled": false,
   "isInternetEnabled": true,
   "language": "python",
   "sourceType": "notebook"
  },
  "kernelspec": {
   "display_name": "Python 3",
   "language": "python",
   "name": "python3"
  },
  "language_info": {
   "codemirror_mode": {
    "name": "ipython",
    "version": 3
   },
   "file_extension": ".py",
   "mimetype": "text/x-python",
   "name": "python",
   "nbconvert_exporter": "python",
   "pygments_lexer": "ipython3",
   "version": "3.10.13"
  },
  "papermill": {
   "default_parameters": {},
   "duration": 59.996668,
   "end_time": "2024-04-17T06:43:57.315500",
   "environment_variables": {},
   "exception": null,
   "input_path": "__notebook__.ipynb",
   "output_path": "__notebook__.ipynb",
   "parameters": {},
   "start_time": "2024-04-17T06:42:57.318832",
   "version": "2.5.0"
  }
 },
 "nbformat": 4,
 "nbformat_minor": 5
}
